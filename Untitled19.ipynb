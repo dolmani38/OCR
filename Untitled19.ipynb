{
  "nbformat": 4,
  "nbformat_minor": 0,
  "metadata": {
    "colab": {
      "name": "Untitled18.ipynb",
      "provenance": [],
      "authorship_tag": "ABX9TyOHShvHfTJlD4ENEIyAELZY",
      "include_colab_link": true
    },
    "kernelspec": {
      "name": "python3",
      "display_name": "Python 3"
    },
    "accelerator": "GPU"
  },
  "cells": [
    {
      "cell_type": "markdown",
      "metadata": {
        "id": "view-in-github",
        "colab_type": "text"
      },
      "source": [
        "<a href=\"https://colab.research.google.com/github/dolmani38/OCR/blob/main/Untitled19.ipynb\" target=\"_parent\"><img src=\"https://colab.research.google.com/assets/colab-badge.svg\" alt=\"Open In Colab\"/></a>"
      ]
    },
    {
      "cell_type": "code",
      "metadata": {
        "colab": {
          "base_uri": "https://localhost:8080/"
        },
        "id": "gixddmO7zyZa",
        "outputId": "59252c7e-e984-47e0-da1e-2ca514bbce03"
      },
      "source": [
        "!pip install easyocr\r\n",
        "!pip install opencv-python"
      ],
      "execution_count": 1,
      "outputs": [
        {
          "output_type": "stream",
          "text": [
            "Collecting easyocr\n",
            "\u001b[?25l  Downloading https://files.pythonhosted.org/packages/9d/02/29153366ab597262ec940e93c9235dde116baf9f5942d0500963c5f4e2ed/easyocr-1.2.4-py3-none-any.whl (62.3MB)\n",
            "\u001b[K     |████████████████████████████████| 62.4MB 49kB/s \n",
            "\u001b[?25hRequirement already satisfied: scikit-image in /usr/local/lib/python3.6/dist-packages (from easyocr) (0.16.2)\n",
            "Requirement already satisfied: PyYAML in /usr/local/lib/python3.6/dist-packages (from easyocr) (3.13)\n",
            "Requirement already satisfied: scipy in /usr/local/lib/python3.6/dist-packages (from easyocr) (1.4.1)\n",
            "Requirement already satisfied: opencv-python in /usr/local/lib/python3.6/dist-packages (from easyocr) (4.1.2.30)\n",
            "Requirement already satisfied: numpy in /usr/local/lib/python3.6/dist-packages (from easyocr) (1.19.5)\n",
            "Requirement already satisfied: torch in /usr/local/lib/python3.6/dist-packages (from easyocr) (1.7.0+cu101)\n",
            "Requirement already satisfied: torchvision>=0.5 in /usr/local/lib/python3.6/dist-packages (from easyocr) (0.8.1+cu101)\n",
            "Collecting python-bidi\n",
            "  Downloading https://files.pythonhosted.org/packages/33/b0/f942d146a2f457233baaafd6bdf624eba8e0f665045b4abd69d1b62d097d/python_bidi-0.4.2-py2.py3-none-any.whl\n",
            "Requirement already satisfied: Pillow in /usr/local/lib/python3.6/dist-packages (from easyocr) (7.0.0)\n",
            "Requirement already satisfied: PyWavelets>=0.4.0 in /usr/local/lib/python3.6/dist-packages (from scikit-image->easyocr) (1.1.1)\n",
            "Requirement already satisfied: matplotlib!=3.0.0,>=2.0.0 in /usr/local/lib/python3.6/dist-packages (from scikit-image->easyocr) (3.2.2)\n",
            "Requirement already satisfied: imageio>=2.3.0 in /usr/local/lib/python3.6/dist-packages (from scikit-image->easyocr) (2.4.1)\n",
            "Requirement already satisfied: networkx>=2.0 in /usr/local/lib/python3.6/dist-packages (from scikit-image->easyocr) (2.5)\n",
            "Requirement already satisfied: typing-extensions in /usr/local/lib/python3.6/dist-packages (from torch->easyocr) (3.7.4.3)\n",
            "Requirement already satisfied: dataclasses in /usr/local/lib/python3.6/dist-packages (from torch->easyocr) (0.8)\n",
            "Requirement already satisfied: future in /usr/local/lib/python3.6/dist-packages (from torch->easyocr) (0.16.0)\n",
            "Requirement already satisfied: six in /usr/local/lib/python3.6/dist-packages (from python-bidi->easyocr) (1.15.0)\n",
            "Requirement already satisfied: pyparsing!=2.0.4,!=2.1.2,!=2.1.6,>=2.0.1 in /usr/local/lib/python3.6/dist-packages (from matplotlib!=3.0.0,>=2.0.0->scikit-image->easyocr) (2.4.7)\n",
            "Requirement already satisfied: python-dateutil>=2.1 in /usr/local/lib/python3.6/dist-packages (from matplotlib!=3.0.0,>=2.0.0->scikit-image->easyocr) (2.8.1)\n",
            "Requirement already satisfied: kiwisolver>=1.0.1 in /usr/local/lib/python3.6/dist-packages (from matplotlib!=3.0.0,>=2.0.0->scikit-image->easyocr) (1.3.1)\n",
            "Requirement already satisfied: cycler>=0.10 in /usr/local/lib/python3.6/dist-packages (from matplotlib!=3.0.0,>=2.0.0->scikit-image->easyocr) (0.10.0)\n",
            "Requirement already satisfied: decorator>=4.3.0 in /usr/local/lib/python3.6/dist-packages (from networkx>=2.0->scikit-image->easyocr) (4.4.2)\n",
            "Installing collected packages: python-bidi, easyocr\n",
            "Successfully installed easyocr-1.2.4 python-bidi-0.4.2\n",
            "Requirement already satisfied: opencv-python in /usr/local/lib/python3.6/dist-packages (4.1.2.30)\n",
            "Requirement already satisfied: numpy>=1.11.3 in /usr/local/lib/python3.6/dist-packages (from opencv-python) (1.19.5)\n"
          ],
          "name": "stdout"
        }
      ]
    },
    {
      "cell_type": "code",
      "metadata": {
        "colab": {
          "base_uri": "https://localhost:8080/"
        },
        "id": "Hc6q7D8nDrU5",
        "outputId": "7bf2f1e6-654c-4f67-b799-0fa3afc96339"
      },
      "source": [
        "!git clone https://github.com/dolmani38/OCR"
      ],
      "execution_count": 52,
      "outputs": [
        {
          "output_type": "stream",
          "text": [
            "fatal: destination path 'OCR' already exists and is not an empty directory.\n"
          ],
          "name": "stdout"
        }
      ]
    },
    {
      "cell_type": "code",
      "metadata": {
        "colab": {
          "base_uri": "https://localhost:8080/"
        },
        "id": "B3QtNbY-CbPs",
        "outputId": "46c3a404-e8a2-4afb-e13e-3f68906fce32"
      },
      "source": [
        "import easyocr\r\n",
        "reader = easyocr.Reader(['en'], gpu = True) # need to run only once to load model into memory"
      ],
      "execution_count": 3,
      "outputs": [
        {
          "output_type": "stream",
          "text": [
            "Downloading detection model, please wait. This may take several minutes depending upon your network connection.\n"
          ],
          "name": "stderr"
        },
        {
          "output_type": "stream",
          "text": [
            ""
          ],
          "name": "stdout"
        },
        {
          "output_type": "stream",
          "text": [
            "Downloading recognition model, please wait. This may take several minutes depending upon your network connection.\n"
          ],
          "name": "stderr"
        },
        {
          "output_type": "stream",
          "text": [
            ""
          ],
          "name": "stdout"
        }
      ]
    },
    {
      "cell_type": "markdown",
      "metadata": {
        "id": "g0lmS8HxTE9R"
      },
      "source": [
        "어떤 Invoice를 읽어 들인다."
      ]
    },
    {
      "cell_type": "code",
      "metadata": {
        "colab": {
          "base_uri": "https://localhost:8080/",
          "height": 1000
        },
        "id": "TCCTODaBOonR",
        "outputId": "cee47dd6-564b-4f46-cb61-2f03c9288d89"
      },
      "source": [
        "from google.colab.patches import cv2_imshow\r\n",
        "import cv2\r\n",
        "import numpy as np\r\n",
        "import random\r\n",
        "\r\n",
        "invoices=['OCR/invoice/invoice-template-en-band-blue-750px.png',\r\n",
        "'OCR/invoice/invoice-template-en-band-blue-760px.png',\r\n",
        "'OCR/invoice/invoice-template-en-classic-blue-750px.png',\r\n",
        "'OCR/invoice/invoice-paid-1.png']\r\n",
        "\r\n",
        "invoice_file_name = random.choices(invoices)[0]\r\n",
        "print(invoice_file_name)\r\n",
        "im_data = cv2.imread(invoice_file_name,1)\r\n",
        "cv2_imshow(im_data)\r\n"
      ],
      "execution_count": 190,
      "outputs": [
        {
          "output_type": "stream",
          "text": [
            "OCR/invoice/invoice-template-en-band-blue-750px.png\n"
          ],
          "name": "stdout"
        },
        {
          "output_type": "display_data",
          "data": {
            "image/png": "[encoded data removed]",
            "text/plain": [
              "<PIL.Image.Image image mode=RGB size=750x1061 at 0x7F053DFBB470>"
            ]
          },
          "metadata": {
            "tags": []
          }
        }
      ]
    },
    {
      "cell_type": "markdown",
      "metadata": {
        "id": "mheMgp-tTTdY"
      },
      "source": [
        "Invoice의 type을 구분할 수 있는 정보가 들어 있는 json 파일을 loading하다. "
      ]
    },
    {
      "cell_type": "code",
      "metadata": {
        "colab": {
          "base_uri": "https://localhost:8080/"
        },
        "id": "7Fb-5kUYPCYy",
        "outputId": "97248bf2-0feb-4199-838f-608c5ab33dfc"
      },
      "source": [
        "import json\r\n",
        "with open('OCR/type.json') as f:\r\n",
        "  types = json.load(f)\r\n",
        "types"
      ],
      "execution_count": 104,
      "outputs": [
        {
          "output_type": "execute_result",
          "data": {
            "text/plain": [
              "{'type1': {'Invoice': [48, 380, 182, 424]},\n",
              " 'type2': {'INVOICE': [593, 74, 688, 102], 'Invoice': [532, 256, 582, 275]},\n",
              " 'type3': {'Nimoy': [136, 72, 227, 119]}}"
            ]
          },
          "metadata": {
            "tags": []
          },
          "execution_count": 104
        }
      ]
    },
    {
      "cell_type": "markdown",
      "metadata": {
        "id": "gZAt2iUBTj3m"
      },
      "source": [
        "Invoice의 type을 구분한다."
      ]
    },
    {
      "cell_type": "code",
      "metadata": {
        "colab": {
          "base_uri": "https://localhost:8080/"
        },
        "id": "jZ8Fc2saPQBm",
        "outputId": "13963431-0e46-4d5a-a61e-1e5e578194e9"
      },
      "source": [
        "invoice_type = None\r\n",
        "\r\n",
        "for k in types:\r\n",
        "    # Create a Rectangle patch\r\n",
        "    features = types[k]\r\n",
        "    isT = True\r\n",
        "    for f in features:\r\n",
        "        r = features[f]\r\n",
        "        text_part=im_data[r[1]:r[3],r[0]:r[2],:]\r\n",
        "        result = reader.readtext(text_part,detail=False)\r\n",
        "        print(k,[f],result)\r\n",
        "        if [f] == result:\r\n",
        "            pass\r\n",
        "        else:\r\n",
        "            isT = False\r\n",
        "    if isT:\r\n",
        "        invoice_type = k\r\n",
        "\r\n",
        "print('invoice_type:',invoice_type) "
      ],
      "execution_count": 151,
      "outputs": [
        {
          "output_type": "stream",
          "text": [
            "type1 ['Invoice'] ['Invoice']\n",
            "type2 ['INVOICE'] []\n",
            "type2 ['Invoice'] []\n",
            "type3 ['Nimoy'] []\n",
            "invoice_type: type1\n"
          ],
          "name": "stdout"
        }
      ]
    },
    {
      "cell_type": "markdown",
      "metadata": {
        "id": "gkFWdilTKcTR"
      },
      "source": [
        "Invoice의 각 패턴별, label (항목)의 위치를 정의한 json 파일을 읽는다."
      ]
    },
    {
      "cell_type": "code",
      "metadata": {
        "colab": {
          "base_uri": "https://localhost:8080/"
        },
        "id": "QUbmlAgc4JRq",
        "outputId": "b39e43a6-d1fa-4eca-ffe5-91e004e14c9f"
      },
      "source": [
        "import json\r\n",
        "with open('OCR/pattern.json') as f:\r\n",
        "  pattern = json.load(f)\r\n",
        "pattern_type1 = pattern[invoice_type]\r\n",
        "pattern_type1"
      ],
      "execution_count": 152,
      "outputs": [
        {
          "output_type": "execute_result",
          "data": {
            "text/plain": [
              "{'address': [46, 150, 162, 189],\n",
              " 'bill to': [49, 259, 178, 324],\n",
              " 'company': [48, 114, 144, 137],\n",
              " 'due date': [625, 315, 702, 335],\n",
              " 'invoice date': [628, 263, 702, 282],\n",
              " 'ship to': [267, 261, 398, 321],\n",
              " 'signature': [521, 751, 710, 867, 'table'],\n",
              " 'table': {'end': 'Tax', 'rect': [39, 471, 700, 884], 'x': [111, 410, 611]},\n",
              " 'total': [556, 380, 698, 425]}"
            ]
          },
          "metadata": {
            "tags": []
          },
          "execution_count": 152
        }
      ]
    },
    {
      "cell_type": "markdown",
      "metadata": {
        "id": "P7KmG33QUAmi"
      },
      "source": [
        "각 항목의 위치를 확인"
      ]
    },
    {
      "cell_type": "code",
      "metadata": {
        "colab": {
          "base_uri": "https://localhost:8080/",
          "height": 1000
        },
        "id": "uI3GLWbI4ACq",
        "outputId": "a8c2ad03-4764-49ed-a3c2-2f490a0c2205"
      },
      "source": [
        "im_data2 = im_data.copy()\r\n",
        "# Blue color in BGR \r\n",
        "color = (0, 0, 255) \r\n",
        "# Line thickness of 2 px \r\n",
        "thickness = 1\r\n",
        "for k in pattern_type1:\r\n",
        "    # Create a Rectangle patch\r\n",
        "    r = pattern_type1[k]\r\n",
        "    if k.startswith('table'):\r\n",
        "        r = r['rect']\r\n",
        "    # Using cv2.rectangle() method \r\n",
        "    # Draw a rectangle with blue line borders of thickness of 2 px \r\n",
        "    im_data2 = cv2.rectangle(im_data2, (r[0],r[1]), (r[2],r[3]), color, thickness) \r\n",
        "    im_data2 = cv2.putText(im_data2,k,(r[0],r[1]-5),cv2.FONT_HERSHEY_SIMPLEX,0.5,color)\r\n",
        "\r\n",
        "cv2_imshow(im_data2)\r\n"
      ],
      "execution_count": 191,
      "outputs": [
        {
          "output_type": "display_data",
          "data": {
            "image/png": "[encoded data removed]",
            "text/plain": [
              "<PIL.Image.Image image mode=RGB size=750x1061 at 0x7F053DFAE198>"
            ]
          },
          "metadata": {
            "tags": []
          }
        }
      ]
    },
    {
      "cell_type": "markdown",
      "metadata": {
        "id": "fxuL4x7lUGgs"
      },
      "source": [
        "각 항목의 OCR 인식"
      ]
    },
    {
      "cell_type": "code",
      "metadata": {
        "colab": {
          "base_uri": "https://localhost:8080/"
        },
        "id": "Y8Of-veaT2xa",
        "outputId": "0179646f-18b1-4b14-bbff-4920ba33f7d9"
      },
      "source": [
        "\r\n",
        "for k in pattern_type1:\r\n",
        "    # Create a Rectangle patch\r\n",
        "    r = pattern_type1[k]\r\n",
        "    if k.startswith('table'):\r\n",
        "        r = r['rect']\r\n",
        "\r\n",
        "    text_part=im_data[r[1]:r[3],r[0]:r[2],:]\r\n",
        "    try:\r\n",
        "        results = reader.readtext(text_part,detail=1)\r\n",
        "    except:\r\n",
        "        pass\r\n",
        "    texts = \"\"\r\n",
        "    for result in results:\r\n",
        "        rect = result[0]\r\n",
        "        text = result[1]\r\n",
        "        prob = result[2]\r\n",
        "        texts += ' ' + text + '('+str(prob)+')'\r\n",
        "\r\n",
        "    print(k,':',texts.strip())"
      ],
      "execution_count": 155,
      "outputs": [
        {
          "output_type": "stream",
          "text": [
            "company : John Smith(0.2592349350452423)\n",
            "address : 44g0 Oak Drive(0.20110084116458893) Albany, NV12210(0.1706131398677826)\n",
            "bill to : Jessie IMHorne(0.25744327902793884) 4312(0.9053566455841064) Road(0.9511789679527283) New York, NY 10031(0.044691286981105804) Waod(0.3954632878303528)\n",
            "ship to : Jessie MHorne(0.09984048455953598) 2019 Redbud Drive(0.21715569496154785) New York, NY 10011(0.1370539665222168)\n",
            "invoice date : 11/02/2019(0.36061039566993713)\n",
            "due date : 26/02/2019(0.4747155010700226)\n",
            "table : QTY(0.9761552810668945) DESCRIPTION(0.8981473445892334) UNIT PRICE(0.6656361818313599) AMOUNT(0.6792299747467041) Front and rear brake cables(0.274436354637146) 100.00(0.15860138833522797) 100.00(0.18814349174499512) New sel of pedal arms(0.15258391201496124) 25,00(0.3179757297039032) 50.00(0.6954557299613953) Labor(0.9938431978225708) 15.00(0.4065167009830475) 45.00(0.7906020879745483) Subtotal(0.7371389865875244) 195.00(0.6155807375907898) Sales Tax 5.0%(0.39414289593696594) 9.75(0.3988758623600006) Total(0.9643818736076355) TERIIS & COIDITIONS(0.056529950350522995) 3hrs(0.39615944027900696)\n",
            "signature : \n",
            "total : $204.75(0.37153953313827515)\n"
          ],
          "name": "stdout"
        }
      ]
    },
    {
      "cell_type": "markdown",
      "metadata": {
        "id": "wFDuFgLYsfTj"
      },
      "source": [
        "spelling check에 의한 보정 처리"
      ]
    },
    {
      "cell_type": "code",
      "metadata": {
        "colab": {
          "base_uri": "https://localhost:8080/"
        },
        "id": "mRfmK0dFvG82",
        "outputId": "9f1e2295-b4f8-4173-a29b-5ccdbdeca8cc"
      },
      "source": [
        "!pip install Fuzzywuzzy "
      ],
      "execution_count": 68,
      "outputs": [
        {
          "output_type": "stream",
          "text": [
            "Requirement already satisfied: Fuzzywuzzy in /usr/local/lib/python3.6/dist-packages (0.18.0)\n"
          ],
          "name": "stdout"
        }
      ]
    },
    {
      "cell_type": "code",
      "metadata": {
        "id": "J8jpoZv3u-h_"
      },
      "source": [
        "# import the fuzzywuzzy module\r\n",
        "from fuzzywuzzy import fuzz\r\n",
        "\r\n",
        "# spellcheck main class\r\n",
        "class SpellCheck:\r\n",
        "\r\n",
        "    # initialization method\r\n",
        "    def __init__(self, word_dict_file=None):\r\n",
        "        # open the dictionary file\r\n",
        "        self.file = open(word_dict_file, 'r')\r\n",
        "        \r\n",
        "        # load the file data in a variable\r\n",
        "        data = self.file.read()\r\n",
        "        \r\n",
        "        # store all the words in a list\r\n",
        "        data = data.split(\",\")\r\n",
        "        \r\n",
        "        # change all the words to lowercase\r\n",
        "        data = [i.lower() for i in data]\r\n",
        "        \r\n",
        "        # remove all the duplicates in the list\r\n",
        "        data = set(data)\r\n",
        "        \r\n",
        "        # store all the words into a class variable dictionary\r\n",
        "        self.dictionary = list(data)\r\n",
        "\r\n",
        "    # string setter method\r\n",
        "    def check(self, string_to_check):\r\n",
        "        # store the string to be checked in a class variable\r\n",
        "        self.string_to_check = string_to_check\r\n",
        "\r\n",
        "    # this method returns the possible suggestions of the correct words\r\n",
        "    def suggestions(self):\r\n",
        "        # store the words of the string to be checked in a list by using a split function\r\n",
        "        string_words = self.string_to_check.split()\r\n",
        "\r\n",
        "        # a list to store all the possible suggestions\r\n",
        "        suggestions = []\r\n",
        "\r\n",
        "        # loop over the number of words in the string to be checked\r\n",
        "        for i in range(len(string_words)):\r\n",
        "            \r\n",
        "            # loop over words in the dictionary\r\n",
        "            for name in self.dictionary:\r\n",
        "                \r\n",
        "                # if the fuzzywuzzy returns the matched value greater than 80\r\n",
        "                if fuzz.ratio(string_words[i].lower(), name.lower()) >= 75:\r\n",
        "                    \r\n",
        "                    # append the dict word to the suggestion list\r\n",
        "                    suggestions.append(name)\r\n",
        "\r\n",
        "        # return the suggestions list\r\n",
        "        return suggestions\r\n",
        "\r\n",
        "    # this method returns the corrected string of the given input\r\n",
        "    def correct(self):\r\n",
        "        # store the words of the string to be checked in a list by using a split function\r\n",
        "        string_words = self.string_to_check.split()\r\n",
        "\r\n",
        "        # loop over the number of words in the string to be checked\r\n",
        "        for i in range(len(string_words)):\r\n",
        "            \r\n",
        "            # initiaze a maximum probability variable to 0\r\n",
        "            max_percent = 0\r\n",
        "\r\n",
        "            # loop over the words in the dictionary\r\n",
        "            for name in self.dictionary:\r\n",
        "                \r\n",
        "                # calulcate the match probability\r\n",
        "                percent = fuzz.ratio(string_words[i].lower(), name.lower())\r\n",
        "                \r\n",
        "                # if the fuzzywuzzy returns the matched value greater than 80\r\n",
        "                if percent >= 75:\r\n",
        "                    \r\n",
        "                    # if the matched probability is\r\n",
        "                    if percent > max_percent:\r\n",
        "                        \r\n",
        "                        # change the original value with the corrected matched value\r\n",
        "                        string_words[i] = name\r\n",
        "                    \r\n",
        "                    # change the max percent to the current matched percent\r\n",
        "                    max_percent = percent\r\n",
        "        \r\n",
        "        # return the cprrected string\r\n",
        "        return \" \".join(string_words)    "
      ],
      "execution_count": 121,
      "outputs": []
    },
    {
      "cell_type": "code",
      "metadata": {
        "id": "l2PN_8cgv64Q"
      },
      "source": [
        "import requests\r\n",
        "# 보정을 위한 word dictionary 구성\r\n",
        "word_dic = requests.get('https://raw.githubusercontent.com/pragnakalp/spellcheck-using-dictionary-in-python/master/words.txt').text\r\n",
        "# Invoice에서 사용하는 정상 word의 추가\r\n",
        "word_dic = ',Smith'\r\n",
        "word_dic = ',Home'\r\n",
        "word_dic = ',Name'\r\n",
        "word_dic += ',4490'\r\n",
        "word_dic += ',Wood'\r\n",
        "word_dic += ',NY'\r\n",
        "word_dic += ',Front,and,rear,brake,cables,New,set,of,pedal,arms,Labor,3hrs,Subtotal'\r\n",
        "f = open(\"word_dic.txt\", \"w\")\r\n",
        "f.write(word_dic)\r\n",
        "f.close()"
      ],
      "execution_count": 71,
      "outputs": []
    },
    {
      "cell_type": "code",
      "metadata": {
        "colab": {
          "base_uri": "https://localhost:8080/"
        },
        "id": "lP_Tr1Bauuh6",
        "outputId": "3d8b38b2-c2bf-4cae-ab6e-7e0faaa98378"
      },
      "source": [
        "\r\n",
        "# create an object\r\n",
        "spell_check = SpellCheck(\"word_dic.txt\")\r\n",
        "\r\n",
        "# set the string\r\n",
        "string_to_be_checked = \"Gujrt Delh Vodadra 44g0 M Horne Waod smiih\"\r\n",
        "spell_check.check(string_to_be_checked)\r\n",
        "\r\n",
        "# print suggestions and correction\r\n",
        "print(spell_check.suggestions())\r\n",
        "print(spell_check.correct())"
      ],
      "execution_count": 126,
      "outputs": [
        {
          "output_type": "stream",
          "text": [
            "['4490', 'wood']\n",
            "Gujrt Delh Vodadra 4490 M Horne wood smiih\n"
          ],
          "name": "stdout"
        }
      ]
    },
    {
      "cell_type": "markdown",
      "metadata": {
        "id": "mPA5adqexLv8"
      },
      "source": [
        "OCR의 확율이 낮은 애들은 spelling 보정 처리 적용"
      ]
    },
    {
      "cell_type": "code",
      "metadata": {
        "colab": {
          "base_uri": "https://localhost:8080/"
        },
        "id": "6xk0J64AxTu8",
        "outputId": "5f8526f9-147e-4f16-adf5-1b3a2e93131d"
      },
      "source": [
        "for k in pattern_type1:\r\n",
        "    # Create a Rectangle patch\r\n",
        "    r = pattern_type1[k]\r\n",
        "    if k.startswith('table'):\r\n",
        "        r = r['rect']        \r\n",
        "\r\n",
        "    text_part=im_data[r[1]:r[3],r[0]:r[2],:]\r\n",
        "    try:\r\n",
        "        results = reader.readtext(text_part,detail=1)\r\n",
        "    except:\r\n",
        "        pass\r\n",
        "    texts = \"\"\r\n",
        "    for result in results:\r\n",
        "        spell_fix = 'None'\r\n",
        "        rect = result[0]\r\n",
        "        text = result[1]\r\n",
        "        prob = result[2]\r\n",
        "        # OCR 인식확률 0.4 이하의 경우, Spelling check 처리\r\n",
        "        if prob <= 0.4:\r\n",
        "            back_text = text\r\n",
        "            spell_check.check(text)\r\n",
        "            text = spell_check.correct()\r\n",
        "            #print(back_text,text)\r\n",
        "            if back_text.lower() != text.lower():\r\n",
        "                spell_fix = 'fix'\r\n",
        "\r\n",
        "        texts += ' ' + text + '('+str(prob)+','+str(spell_fix)+')'\r\n",
        "\r\n",
        "    print(k,':',texts.strip())"
      ],
      "execution_count": 156,
      "outputs": [
        {
          "output_type": "stream",
          "text": [
            "company : John Smith(0.2592349350452423,None)\n",
            "address : 4490 Oak Drive(0.20110084116458893,fix) Albany, NV12210(0.1706131398677826,None)\n",
            "bill to : Jessie IMHorne(0.25744327902793884,None) 4312(0.9053566455841064,None) Road(0.9511789679527283,None) new York, ny 10031(0.044691286981105804,None) wood(0.3954632878303528,fix)\n",
            "ship to : Jessie MHorne(0.09984048455953598,None) 2019 Redbud Drive(0.21715569496154785,None) new York, ny 10011(0.1370539665222168,None)\n",
            "invoice date : 11/02/2019(0.36061039566993713,None)\n",
            "due date : 26/02/2019(0.4747155010700226,None)\n",
            "table : QTY(0.9761552810668945,None) DESCRIPTION(0.8981473445892334,None) UNIT PRICE(0.6656361818313599,None) AMOUNT(0.6792299747467041,None) front and rear brake cables(0.274436354637146,None) 100.00(0.15860138833522797,None) 100.00(0.18814349174499512,None) new sel of pedal arms(0.15258391201496124,None) 25,00(0.3179757297039032,None) 50.00(0.6954557299613953,None) Labor(0.9938431978225708,None) 15.00(0.4065167009830475,None) 45.00(0.7906020879745483,None) Subtotal(0.7371389865875244,None) 195.00(0.6155807375907898,None) Sales Tax 5.0%(0.39414289593696594,None) 9.75(0.3988758623600006,None) Total(0.9643818736076355,None) TERIIS & COIDITIONS(0.056529950350522995,None) 3hrs(0.39615944027900696,None)\n",
            "signature : \n",
            "total : $204.75(0.37153953313827515,None)\n"
          ],
          "name": "stdout"
        }
      ]
    },
    {
      "cell_type": "markdown",
      "metadata": {
        "id": "tQjYcFJt8eAH"
      },
      "source": [
        "part 이미지를 200% 키우고 선명하게 sharpen 전처리하고 OCR인식한다."
      ]
    },
    {
      "cell_type": "code",
      "metadata": {
        "id": "FeXjgpD7eTDE"
      },
      "source": [
        "import cv2 as cv\r\n",
        "import numpy as np\r\n",
        "\r\n",
        "def unsharp_mask2(image, kernel_size=(5, 5), sigma=2.0, amount=2.0, threshold=0):\r\n",
        "    \"\"\"Return a sharpened version of the image, using an unsharp mask.\"\"\"\r\n",
        "    blurred = cv.GaussianBlur(image, kernel_size, sigma)\r\n",
        "    sharpened = float(amount + 1) * image - float(amount) * blurred\r\n",
        "    sharpened = np.maximum(sharpened, np.zeros(sharpened.shape))\r\n",
        "    sharpened = np.minimum(sharpened, 255 * np.ones(sharpened.shape))\r\n",
        "    sharpened = sharpened.round().astype(np.uint8)\r\n",
        "    if threshold > 0:\r\n",
        "        low_contrast_mask = np.absolute(image - blurred) < threshold\r\n",
        "        np.copyto(sharpened, image, where=low_contrast_mask)\r\n",
        "    return sharpened"
      ],
      "execution_count": 157,
      "outputs": []
    },
    {
      "cell_type": "code",
      "metadata": {
        "id": "8keB8BTmj1nL"
      },
      "source": [
        "\r\n",
        "def unsharp_mask(image):\r\n",
        "    #sharpening_1 = np.array([[-1, -1, -1], [-1, 9, -1], [-1, -1, -1]])\r\n",
        "    sharpening_2 = np.array([[-1, -1, -1, -1, -1],\r\n",
        "                            [-1, 2, 2, 2, -1],\r\n",
        "                            [-1, 2, 9, 2, -1],\r\n",
        "                            [-1, 2, 2, 2, -1],\r\n",
        "                            [-1, -1, -1, -1, -1]]) / 9.0\r\n",
        "\r\n",
        "    #dst = cv2.filter2D(image, -1, sharpening_1)\r\n",
        "    #cv2.imshow('Sharpening1', dst)\r\n",
        "\r\n",
        "    dst = cv2.filter2D(image, -1, sharpening_2)\r\n",
        "    return dst"
      ],
      "execution_count": 27,
      "outputs": []
    },
    {
      "cell_type": "code",
      "metadata": {
        "id": "8DcRcznF8oQ-"
      },
      "source": [
        "import cv2\r\n",
        "import numpy as np\r\n",
        "from PIL import Image, ImageEnhance\r\n",
        "\r\n",
        "def preprocessing_part_image(img, scale_percent = 200):\r\n",
        "    #scale_percent = 60 # percent of original size\r\n",
        "    if scale_percent <= 100:\r\n",
        "        pass\r\n",
        "    else:\r\n",
        "        width = int(img.shape[1] * scale_percent / 100)\r\n",
        "        height = int(img.shape[0] * scale_percent / 100)\r\n",
        "        dim = (width, height)\r\n",
        "        # resize image\r\n",
        "        img = cv2.resize(img, dim)#, interpolation = cv2.INTER_AREA)\r\n",
        "        #img = img * 255\r\n",
        "        # Sharpen image\r\n",
        "        #img.astype(np.float64)\r\n",
        "    #img = unsharp_mask2(img)\r\n",
        "    return img"
      ],
      "execution_count": 129,
      "outputs": []
    },
    {
      "cell_type": "code",
      "metadata": {
        "colab": {
          "base_uri": "https://localhost:8080/"
        },
        "id": "kMNFKeX69Dl8",
        "outputId": "5c64ac26-3b30-410c-f826-1c5541c24903"
      },
      "source": [
        "\r\n",
        "for k in pattern_type1:\r\n",
        "    # Create a Rectangle patch\r\n",
        "    r = pattern_type1[k]\r\n",
        "    if k.startswith('table'):\r\n",
        "        r = r['rect']        \r\n",
        "    text_part=im_data[r[1]:r[3],r[0]:r[2],:]\r\n",
        "    try:\r\n",
        "        results = reader.readtext(preprocessing_part_image(text_part,scale_percent = 200),detail=1)\r\n",
        "    except:\r\n",
        "        pass\r\n",
        "        \r\n",
        "    texts = \"\"\r\n",
        "    for result in results:\r\n",
        "        rect = result[0]\r\n",
        "        text = result[1]\r\n",
        "        prob = result[2]\r\n",
        "        texts += ' ' + text + '('+str(prob)+')'\r\n",
        "\r\n",
        "    print(k,':',texts.strip())"
      ],
      "execution_count": 158,
      "outputs": [
        {
          "output_type": "stream",
          "text": [
            "company : John Smith(0.7469491362571716)\n",
            "address : 4490 Oak Drive(0.2956162989139557) NY 12210(0.40791916847229004) Albany,(0.5485931038856506)\n",
            "bill to : Jessie MHorne(0.7921890020370483) 4312 Wood Road(0.4277959167957306) New York, NY 10031(0.07618586719036102)\n",
            "ship to : Jessie MHorne(0.578524649143219) 2019 Redbud Drive(0.5137630701065063) York, NY 10011(0.25689804553985596) New(0.9787846207618713)\n",
            "invoice date : 11/02/2019(0.6563606858253479)\n",
            "due date : 26/02/2019(0.7870054244995117)\n",
            "table : QTY(0.9434832334518433) DESCRIPTION(0.8327618837356567) UNIT PRICE(0.413128525018692) AMOUNT(0.9665278196334839) Front and rear brake cables(0.06534215807914734) 100.00(0.7255829572677612) 100.00(0.8764060735702515) 2(0.7720112204551697) New set of pedal arms(0.31158629059791565) 25.00(0.4866543114185333) 50.00(0.8385621309280396) 3(0.7459871172904968) Labor 3hrs(0.9444293975830078) 15.00(0.6317181587219238) 45.00(0.7910798192024231) Subtotal(0.9930635690689087) 195.00(0.42375826835632324) Sales Tax 5.0%(0.14763866364955902) 9.75(0.4360501766204834) Total(0.9742985963821411) TERMS & CONDITIONS(0.06708790361881256)\n",
            "signature : \n",
            "total : $204.75(0.5093486309051514)\n"
          ],
          "name": "stdout"
        }
      ]
    },
    {
      "cell_type": "markdown",
      "metadata": {
        "id": "KKIPR3efKcyJ"
      },
      "source": [
        "이미지 보정 + spelling 보정"
      ]
    },
    {
      "cell_type": "code",
      "metadata": {
        "id": "bQljGjuDWlqq"
      },
      "source": [
        "def recognition_correction(text_part_image,scale_percent = 200,rate_threshold=0.4):\r\n",
        "    results = []\r\n",
        "    try:\r\n",
        "        results = reader.readtext(preprocessing_part_image(text_part_image,scale_percent=scale_percent),detail=1)\r\n",
        "    except:\r\n",
        "        pass\r\n",
        "\r\n",
        "    texts = []\r\n",
        "    infos = []\r\n",
        "    for result in results:\r\n",
        "        spell_fix = 'None'\r\n",
        "        rect = result[0]\r\n",
        "        text = result[1]\r\n",
        "        prob = result[2]\r\n",
        "        # OCR 인식확률 0.4 이하의 경우, Spelling check 처리\r\n",
        "        if prob <= rate_threshold:\r\n",
        "            back_text = text\r\n",
        "            spell_check.check(text)\r\n",
        "            texts.append(spell_check.correct())\r\n",
        "            #print(back_text,text)\r\n",
        "            if back_text.lower() != text.lower():\r\n",
        "                spell_fix = 'fix'\r\n",
        "        else:\r\n",
        "            texts.append(text)\r\n",
        "        infos.append((prob,spell_fix))\r\n",
        "\r\n",
        "    return (' '.join(texts) if len(texts) > 0 else '').strip(),infos\r\n"
      ],
      "execution_count": 159,
      "outputs": []
    },
    {
      "cell_type": "code",
      "metadata": {
        "colab": {
          "base_uri": "https://localhost:8080/"
        },
        "id": "7mhMo9raLJhS",
        "outputId": "38e5cc9b-7db9-4fc5-fabe-dfa6b8f7c648"
      },
      "source": [
        "for k in pattern_type1:\r\n",
        "    # Create a Rectangle patch\r\n",
        "    r = pattern_type1[k]\r\n",
        "    if k.startswith('table'):\r\n",
        "        r = r['rect']        \r\n",
        "    text_part=im_data[r[1]:r[3],r[0]:r[2],:]\r\n",
        "    text,infos = recognition_correction(text_part)\r\n",
        "    print(k,':',text.strip(),infos)"
      ],
      "execution_count": 160,
      "outputs": [
        {
          "output_type": "stream",
          "text": [
            "company : John Smith [(0.7469491362571716, 'None')]\n",
            "address : 4490 Oak Drive NY 12210 Albany, [(0.2956162989139557, 'None'), (0.40791916847229004, 'None'), (0.5485931038856506, 'None')]\n",
            "bill to : Jessie MHorne 4312 Wood Road new York, ny 10031 [(0.7921890020370483, 'None'), (0.4277959167957306, 'None'), (0.07618586719036102, 'None')]\n",
            "ship to : Jessie MHorne 2019 Redbud Drive York, ny 10011 New [(0.578524649143219, 'None'), (0.5137630701065063, 'None'), (0.25689804553985596, 'None'), (0.9787846207618713, 'None')]\n",
            "invoice date : 11/02/2019 [(0.6563606858253479, 'None')]\n",
            "due date : 26/02/2019 [(0.7870054244995117, 'None')]\n",
            "table : QTY DESCRIPTION UNIT PRICE AMOUNT front and rear brake cables 100.00 100.00 2 new set of pedal arms 25.00 50.00 3 Labor 3hrs 15.00 45.00 Subtotal 195.00 Sales Tax 5.0% 9.75 Total TERMS & CONDITIONS [(0.9434832334518433, 'None'), (0.8327618837356567, 'None'), (0.413128525018692, 'None'), (0.9665278196334839, 'None'), (0.06534215807914734, 'None'), (0.7255829572677612, 'None'), (0.8764060735702515, 'None'), (0.7720112204551697, 'None'), (0.31158629059791565, 'None'), (0.4866543114185333, 'None'), (0.8385621309280396, 'None'), (0.7459871172904968, 'None'), (0.9444293975830078, 'None'), (0.6317181587219238, 'None'), (0.7910798192024231, 'None'), (0.9930635690689087, 'None'), (0.42375826835632324, 'None'), (0.14763866364955902, 'None'), (0.4360501766204834, 'None'), (0.9742985963821411, 'None'), (0.06708790361881256, 'None')]\n",
            "signature :  []\n",
            "total : $204.75 [(0.5093486309051514, 'None')]\n"
          ],
          "name": "stdout"
        }
      ]
    },
    {
      "cell_type": "markdown",
      "metadata": {
        "id": "RmNbKNVgjV8H"
      },
      "source": [
        "표(Table)의 인식"
      ]
    },
    {
      "cell_type": "code",
      "metadata": {
        "id": "uL13NK9DZDC_"
      },
      "source": [
        "import pandas as pd\r\n",
        "\r\n",
        "class TableImage2DataFrame:\r\n",
        "    # Blue color in BGR \r\n",
        "    color = (0, 0, 255) \r\n",
        "    # Line thickness of 2 px \r\n",
        "    thickness = 1    \r\n",
        "    def __init__(self, image,table_info):\r\n",
        "        self.column_rect = []\r\n",
        "        t = table_info['rect']\r\n",
        "        self.top = t[1]\r\n",
        "        self.column_offset = table_info['x']\r\n",
        "        self.end_word = \"\"\r\n",
        "        if 'end' in table_info:\r\n",
        "            self.end_word = table_info['end']\r\n",
        "        self.raw_offset = []\r\n",
        "        self.table_part=image[t[1]:t[3],t[0]:t[2],:]\r\n",
        "        self.lx = t[2]-t[0]-1\r\n",
        "        self.ly = t[3]-t[1]-1\r\n",
        "        table_part2 = self.table_part.copy()\r\n",
        "        xs = [0] + [x-t[0] for x in self.column_offset]+[self.lx]\r\n",
        "        for i in range(len(xs)-1):\r\n",
        "            rect = [(xs[i],0),(xs[i+1],self.ly)]\r\n",
        "            self.column_rect.append(rect)\r\n",
        "\r\n",
        "        for tr in self.column_rect:\r\n",
        "            table_part2 = cv2.rectangle(table_part2, tr[0],tr[1], color, thickness)\r\n",
        "\r\n",
        "        #cv2_imshow(table_part2) \r\n",
        "\r\n",
        "    def __add_offset(self,yos,offset_range=5):\r\n",
        "        \r\n",
        "        allow_add = True\r\n",
        "        for ro in self.raw_offset:\r\n",
        "            if yos > ro-offset_range and yos < ro+offset_range:\r\n",
        "                allow_add = False\r\n",
        "        if allow_add:\r\n",
        "            self.raw_offset.append(yos)\r\n",
        "\r\n",
        "    def __get_rawoffset(self):\r\n",
        "        for (r0,r1),(r2,r3) in self.column_rect:     \r\n",
        "            text_part=self.table_part[r1:r3,r0:r2,:]\r\n",
        "            results = reader.readtext(text_part,detail=1)\r\n",
        "            texts = \"\"\r\n",
        "            for result in results:\r\n",
        "                rect = result[0]\r\n",
        "                #print(rect)\r\n",
        "                text = result[1]\r\n",
        "                if len(self.end_word) > 0 and text.find(self.end_word) > -1:\r\n",
        "                    self.__add_offset(rect[0][1])\r\n",
        "                    self.__add_offset(rect[2][1])\r\n",
        "                    #print(text)\r\n",
        "                    return None\r\n",
        "                else:\r\n",
        "                    self.__add_offset(rect[0][1])\r\n",
        "        self.__add_offset(self.ly)\r\n",
        "        #print(self.raw_offset)\r\n",
        "\r\n",
        "    def get_table_data(self,scale_percent = 200,rate_threshold=0.4):\r\n",
        "        self.__get_rawoffset()\r\n",
        "        self.raw_offset.sort()\r\n",
        "        #print(self.raw_offset)\r\n",
        "        data = {}\r\n",
        "        for (r0,r1),(r2,r3) in self.column_rect:\r\n",
        "            header = \"\"   \r\n",
        "            for i in range(len(self.raw_offset)-1):\r\n",
        "                text_part=self.table_part[self.raw_offset[i]:self.raw_offset[i+1],r0:r2,:]\r\n",
        "                text,infos = recognition_correction(text_part,scale_percent,rate_threshold)\r\n",
        "                if i == 0:\r\n",
        "                    header = text\r\n",
        "                    data[header] = []\r\n",
        "                else:\r\n",
        "                    data[header].append(text)\r\n",
        "\r\n",
        "        df = pd.DataFrame(data) \r\n",
        "        return df, max(self.raw_offset) + self.top"
      ],
      "execution_count": 194,
      "outputs": []
    },
    {
      "cell_type": "code",
      "metadata": {
        "colab": {
          "base_uri": "https://localhost:8080/",
          "height": 665
        },
        "id": "Rq40aYyUacSo",
        "outputId": "25042742-19ab-4db4-f0fe-cde38dc52aba"
      },
      "source": [
        "tf = TableImage2DataFrame(im_data,pattern_type1['table'])\r\n",
        "df,ly = tf.get_table_data(scale_percent = 100)\r\n",
        "print(ly)\r\n",
        "df   "
      ],
      "execution_count": 192,
      "outputs": [
        {
          "output_type": "display_data",
          "data": {
            "image/png": "[encoded data removed]",
            "text/plain": [
              "<PIL.Image.Image image mode=RGB size=661x413 at 0x7F053DFAD6D8>"
            ]
          },
          "metadata": {
            "tags": []
          }
        },
        {
          "output_type": "stream",
          "text": [
            "Sales Tax 5.0%\n",
            "[7, 40, 71, 99, 145, 171, 187]\n",
            "658\n"
          ],
          "name": "stdout"
        },
        {
          "output_type": "execute_result",
          "data": {
            "text/html": [
              "<div>\n",
              "<style scoped>\n",
              "    .dataframe tbody tr th:only-of-type {\n",
              "        vertical-align: middle;\n",
              "    }\n",
              "\n",
              "    .dataframe tbody tr th {\n",
              "        vertical-align: top;\n",
              "    }\n",
              "\n",
              "    .dataframe thead th {\n",
              "        text-align: right;\n",
              "    }\n",
              "</style>\n",
              "<table border=\"1\" class=\"dataframe\">\n",
              "  <thead>\n",
              "    <tr style=\"text-align: right;\">\n",
              "      <th></th>\n",
              "      <th>QTY</th>\n",
              "      <th>DESCRIPTION</th>\n",
              "      <th>UNIT PRICE</th>\n",
              "      <th>AMOUNT</th>\n",
              "    </tr>\n",
              "  </thead>\n",
              "  <tbody>\n",
              "    <tr>\n",
              "      <th>0</th>\n",
              "      <td></td>\n",
              "      <td>Front and rear brake cables</td>\n",
              "      <td>100.00</td>\n",
              "      <td>100.00</td>\n",
              "    </tr>\n",
              "    <tr>\n",
              "      <th>1</th>\n",
              "      <td></td>\n",
              "      <td>new set of pedal arms</td>\n",
              "      <td>25.00</td>\n",
              "      <td>50.00</td>\n",
              "    </tr>\n",
              "    <tr>\n",
              "      <th>2</th>\n",
              "      <td></td>\n",
              "      <td>labor 3hrs</td>\n",
              "      <td>15.00</td>\n",
              "      <td>45.00</td>\n",
              "    </tr>\n",
              "    <tr>\n",
              "      <th>3</th>\n",
              "      <td></td>\n",
              "      <td></td>\n",
              "      <td>Subtotal</td>\n",
              "      <td>195.00</td>\n",
              "    </tr>\n",
              "    <tr>\n",
              "      <th>4</th>\n",
              "      <td></td>\n",
              "      <td></td>\n",
              "      <td>Sales Tax 5.0%</td>\n",
              "      <td>9.75</td>\n",
              "    </tr>\n",
              "  </tbody>\n",
              "</table>\n",
              "</div>"
            ],
            "text/plain": [
              "  QTY                  DESCRIPTION      UNIT PRICE  AMOUNT\n",
              "0      Front and rear brake cables          100.00  100.00\n",
              "1            new set of pedal arms           25.00   50.00\n",
              "2                       labor 3hrs           15.00   45.00\n",
              "3                                         Subtotal  195.00\n",
              "4                                   Sales Tax 5.0%    9.75"
            ]
          },
          "metadata": {
            "tags": []
          },
          "execution_count": 192
        }
      ]
    },
    {
      "cell_type": "markdown",
      "metadata": {
        "id": "3xIJKFtFb6p2"
      },
      "source": [
        "모든 종합 처리"
      ]
    },
    {
      "cell_type": "code",
      "metadata": {
        "colab": {
          "base_uri": "https://localhost:8080/"
        },
        "id": "lTKZBZgsb88b",
        "outputId": "9d0f2d06-783c-49f9-c7e3-0832017ed6f8"
      },
      "source": [
        "anchor_offset = {}\r\n",
        "for k in pattern_type1:\r\n",
        "    r = pattern_type1[k]\r\n",
        "    #가변 Y의 경우... \r\n",
        "    if len(r) == 5:\r\n",
        "        last_y = anchor_offset[r[4]]\r\n",
        "        r[3] = (r[3] - r[1]) + last_y\r\n",
        "        r[1] = last_y    \r\n",
        "    if k.startswith('table'):\r\n",
        "        td = TableImage2DataFrame(im_data,r)\r\n",
        "        df,ly = td.get_table_data(scale_percent=100)\r\n",
        "        print(df)\r\n",
        "        anchor_offset[k] = ly   \r\n",
        "    else:\r\n",
        "        text_part=im_data[r[1]:r[3],r[0]:r[2],:]\r\n",
        "        text,infos = recognition_correction(text_part)            \r\n",
        "        print(k,':',text.strip())\r\n",
        "        anchor_offset[k] = r[3]"
      ],
      "execution_count": 195,
      "outputs": [
        {
          "output_type": "stream",
          "text": [
            "company : John Smith\n",
            "address : 4490 Oak Drive NY 12210 Albany,\n",
            "bill to : Jessie MHorne 4312 Wood Road new York, ny 10031\n",
            "ship to : Jessie MHorne 2019 Redbud Drive York, ny 10011 New\n",
            "invoice date : 11/02/2019\n",
            "due date : 26/02/2019\n",
            "  QTY                  DESCRIPTION      UNIT PRICE  AMOUNT\n",
            "0      Front and rear brake cables          100.00  100.00\n",
            "1            new set of pedal arms           25.00   50.00\n",
            "2                       labor 3hrs           15.00   45.00\n",
            "3                                         Subtotal  195.00\n",
            "4                                   Sales Tax 5.0%    9.75\n",
            "signature : Total\n",
            "total : $204.75\n"
          ],
          "name": "stdout"
        }
      ]
    }
  ]
}