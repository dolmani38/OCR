{
  "nbformat": 4,
  "nbformat_minor": 0,
  "metadata": {
    "colab": {
      "name": "Untitled18.ipynb",
      "provenance": [],
      "authorship_tag": "ABX9TyPaF9SHZTlCVxgdi6aRIW2R",
      "include_colab_link": true
    },
    "kernelspec": {
      "name": "python3",
      "display_name": "Python 3"
    },
    "accelerator": "GPU"
  },
  "cells": [
    {
      "cell_type": "markdown",
      "metadata": {
        "id": "view-in-github",
        "colab_type": "text"
      },
      "source": [
        "<a href=\"https://colab.research.google.com/github/dolmani38/OCR/blob/main/Untitled19.ipynb\" target=\"_parent\"><img src=\"https://colab.research.google.com/assets/colab-badge.svg\" alt=\"Open In Colab\"/></a>"
      ]
    },
    {
      "cell_type": "code",
      "metadata": {
        "colab": {
          "base_uri": "https://localhost:8080/"
        },
        "id": "gixddmO7zyZa",
        "outputId": "d520da3d-50b7-47c3-bc3e-e4879b8651b5"
      },
      "source": [
        "!pip install easyocr\r\n",
        "!pip install opencv-python"
      ],
      "execution_count": 1,
      "outputs": [
        {
          "output_type": "stream",
          "text": [
            "Collecting easyocr\n",
            "\u001b[?25l  Downloading https://files.pythonhosted.org/packages/9d/02/29153366ab597262ec940e93c9235dde116baf9f5942d0500963c5f4e2ed/easyocr-1.2.4-py3-none-any.whl (62.3MB)\n",
            "\u001b[K     |████████████████████████████████| 62.4MB 46kB/s \n",
            "\u001b[?25hRequirement already satisfied: torch in /usr/local/lib/python3.6/dist-packages (from easyocr) (1.7.0+cu101)\n",
            "Requirement already satisfied: Pillow in /usr/local/lib/python3.6/dist-packages (from easyocr) (7.0.0)\n",
            "Requirement already satisfied: numpy in /usr/local/lib/python3.6/dist-packages (from easyocr) (1.19.5)\n",
            "Requirement already satisfied: scipy in /usr/local/lib/python3.6/dist-packages (from easyocr) (1.4.1)\n",
            "Collecting python-bidi\n",
            "  Downloading https://files.pythonhosted.org/packages/33/b0/f942d146a2f457233baaafd6bdf624eba8e0f665045b4abd69d1b62d097d/python_bidi-0.4.2-py2.py3-none-any.whl\n",
            "Requirement already satisfied: scikit-image in /usr/local/lib/python3.6/dist-packages (from easyocr) (0.16.2)\n",
            "Requirement already satisfied: torchvision>=0.5 in /usr/local/lib/python3.6/dist-packages (from easyocr) (0.8.1+cu101)\n",
            "Requirement already satisfied: PyYAML in /usr/local/lib/python3.6/dist-packages (from easyocr) (3.13)\n",
            "Requirement already satisfied: opencv-python in /usr/local/lib/python3.6/dist-packages (from easyocr) (4.1.2.30)\n",
            "Requirement already satisfied: dataclasses in /usr/local/lib/python3.6/dist-packages (from torch->easyocr) (0.8)\n",
            "Requirement already satisfied: future in /usr/local/lib/python3.6/dist-packages (from torch->easyocr) (0.16.0)\n",
            "Requirement already satisfied: typing-extensions in /usr/local/lib/python3.6/dist-packages (from torch->easyocr) (3.7.4.3)\n",
            "Requirement already satisfied: six in /usr/local/lib/python3.6/dist-packages (from python-bidi->easyocr) (1.15.0)\n",
            "Requirement already satisfied: matplotlib!=3.0.0,>=2.0.0 in /usr/local/lib/python3.6/dist-packages (from scikit-image->easyocr) (3.2.2)\n",
            "Requirement already satisfied: networkx>=2.0 in /usr/local/lib/python3.6/dist-packages (from scikit-image->easyocr) (2.5)\n",
            "Requirement already satisfied: PyWavelets>=0.4.0 in /usr/local/lib/python3.6/dist-packages (from scikit-image->easyocr) (1.1.1)\n",
            "Requirement already satisfied: imageio>=2.3.0 in /usr/local/lib/python3.6/dist-packages (from scikit-image->easyocr) (2.4.1)\n",
            "Requirement already satisfied: pyparsing!=2.0.4,!=2.1.2,!=2.1.6,>=2.0.1 in /usr/local/lib/python3.6/dist-packages (from matplotlib!=3.0.0,>=2.0.0->scikit-image->easyocr) (2.4.7)\n",
            "Requirement already satisfied: kiwisolver>=1.0.1 in /usr/local/lib/python3.6/dist-packages (from matplotlib!=3.0.0,>=2.0.0->scikit-image->easyocr) (1.3.1)\n",
            "Requirement already satisfied: cycler>=0.10 in /usr/local/lib/python3.6/dist-packages (from matplotlib!=3.0.0,>=2.0.0->scikit-image->easyocr) (0.10.0)\n",
            "Requirement already satisfied: python-dateutil>=2.1 in /usr/local/lib/python3.6/dist-packages (from matplotlib!=3.0.0,>=2.0.0->scikit-image->easyocr) (2.8.1)\n",
            "Requirement already satisfied: decorator>=4.3.0 in /usr/local/lib/python3.6/dist-packages (from networkx>=2.0->scikit-image->easyocr) (4.4.2)\n",
            "Installing collected packages: python-bidi, easyocr\n",
            "Successfully installed easyocr-1.2.4 python-bidi-0.4.2\n",
            "Requirement already satisfied: opencv-python in /usr/local/lib/python3.6/dist-packages (4.1.2.30)\n",
            "Requirement already satisfied: numpy>=1.11.3 in /usr/local/lib/python3.6/dist-packages (from opencv-python) (1.19.5)\n"
          ],
          "name": "stdout"
        }
      ]
    },
    {
      "cell_type": "code",
      "metadata": {
        "colab": {
          "base_uri": "https://localhost:8080/"
        },
        "id": "Hc6q7D8nDrU5",
        "outputId": "e32584d6-07e4-409e-edd3-78463be43a27"
      },
      "source": [
        "!git clone https://github.com/dolmani38/OCR"
      ],
      "execution_count": 2,
      "outputs": [
        {
          "output_type": "stream",
          "text": [
            "Cloning into 'OCR'...\n",
            "remote: Enumerating objects: 115, done.\u001b[K\n",
            "remote: Counting objects: 100% (115/115), done.\u001b[K\n",
            "remote: Compressing objects: 100% (109/109), done.\u001b[K\n",
            "remote: Total 115 (delta 35), reused 0 (delta 0), pack-reused 0\u001b[K\n",
            "Receiving objects: 100% (115/115), 1.22 MiB | 13.60 MiB/s, done.\n",
            "Resolving deltas: 100% (35/35), done.\n"
          ],
          "name": "stdout"
        }
      ]
    },
    {
      "cell_type": "code",
      "metadata": {
        "colab": {
          "base_uri": "https://localhost:8080/"
        },
        "id": "B3QtNbY-CbPs",
        "outputId": "902e2bce-585c-4f3d-86c9-55e1684021c3"
      },
      "source": [
        "import easyocr\r\n",
        "reader = easyocr.Reader(['en'], gpu = True) # need to run only once to load model into memory"
      ],
      "execution_count": 3,
      "outputs": [
        {
          "output_type": "stream",
          "text": [
            "Downloading detection model, please wait. This may take several minutes depending upon your network connection.\n"
          ],
          "name": "stderr"
        },
        {
          "output_type": "stream",
          "text": [
            ""
          ],
          "name": "stdout"
        },
        {
          "output_type": "stream",
          "text": [
            "Downloading recognition model, please wait. This may take several minutes depending upon your network connection.\n"
          ],
          "name": "stderr"
        },
        {
          "output_type": "stream",
          "text": [
            ""
          ],
          "name": "stdout"
        }
      ]
    },
    {
      "cell_type": "markdown",
      "metadata": {
        "id": "g0lmS8HxTE9R"
      },
      "source": [
        "어떤 Invoice를 읽어 들인다."
      ]
    },
    {
      "cell_type": "code",
      "metadata": {
        "colab": {
          "base_uri": "https://localhost:8080/",
          "height": 1000
        },
        "id": "TCCTODaBOonR",
        "outputId": "caa79af2-7771-4cb2-935b-c828ea0482b7"
      },
      "source": [
        "from google.colab.patches import cv2_imshow\r\n",
        "import cv2\r\n",
        "import numpy as np\r\n",
        "import random\r\n",
        "\r\n",
        "invoices=['OCR/invoice/invoice-template-en-band-blue-750px.png',\r\n",
        "'OCR/invoice/invoice-template-en-classic-blue-750px.png']\r\n",
        "\r\n",
        "invoice = random.choices(invoices)[0]\r\n",
        "im_data = cv2.imread(invoice,1)\r\n",
        "cv2_imshow(im_data)\r\n"
      ],
      "execution_count": 11,
      "outputs": [
        {
          "output_type": "display_data",
          "data": {
            "image/png": "[encoded data removed]",
            "text/plain": [
              "<PIL.Image.Image image mode=RGB size=750x1061 at 0x7FBDD414F1D0>"
            ]
          },
          "metadata": {
            "tags": []
          }
        }
      ]
    },
    {
      "cell_type": "markdown",
      "metadata": {
        "id": "mheMgp-tTTdY"
      },
      "source": [
        "Invoice의 type을 구분할 수 있는 정보가 들어 있는 json 파일을 loading하다. "
      ]
    },
    {
      "cell_type": "code",
      "metadata": {
        "colab": {
          "base_uri": "https://localhost:8080/"
        },
        "id": "7Fb-5kUYPCYy",
        "outputId": "4cf8cee0-14bb-4c58-8dee-4279bce269b9"
      },
      "source": [
        "import json\r\n",
        "with open('OCR/type.json') as f:\r\n",
        "  types = json.load(f)\r\n",
        "types"
      ],
      "execution_count": 5,
      "outputs": [
        {
          "output_type": "execute_result",
          "data": {
            "text/plain": [
              "{'type1': {'Invoice': [48, 380, 182, 424]},\n",
              " 'type2': {'INVOICE': [593, 74, 688, 102], 'Invoice': [532, 256, 582, 275]}}"
            ]
          },
          "metadata": {
            "tags": []
          },
          "execution_count": 5
        }
      ]
    },
    {
      "cell_type": "markdown",
      "metadata": {
        "id": "gZAt2iUBTj3m"
      },
      "source": [
        "Invoice의 type을 구분한다."
      ]
    },
    {
      "cell_type": "code",
      "metadata": {
        "colab": {
          "base_uri": "https://localhost:8080/"
        },
        "id": "jZ8Fc2saPQBm",
        "outputId": "c0139103-b209-4351-dcf4-9acd2c43404d"
      },
      "source": [
        "invoice_type = None\r\n",
        "\r\n",
        "for k in types:\r\n",
        "    # Create a Rectangle patch\r\n",
        "    features = types[k]\r\n",
        "    isT = True\r\n",
        "    for f in features:\r\n",
        "        r = features[f]\r\n",
        "        text_part=im_data[r[1]:r[3],r[0]:r[2],:]\r\n",
        "        result = reader.readtext(text_part,detail=False)\r\n",
        "        print(k,[f],result)\r\n",
        "        if [f] == result:\r\n",
        "            pass\r\n",
        "        else:\r\n",
        "            isT = False\r\n",
        "    if isT:\r\n",
        "        invoice_type = k\r\n",
        "\r\n",
        "print('invoice_type:',invoice_type) "
      ],
      "execution_count": 12,
      "outputs": [
        {
          "output_type": "stream",
          "text": [
            "type1 ['Invoice'] ['Invoice']\n",
            "type2 ['INVOICE'] []\n",
            "type2 ['Invoice'] []\n",
            "invoice_type: type1\n"
          ],
          "name": "stdout"
        }
      ]
    },
    {
      "cell_type": "markdown",
      "metadata": {
        "id": "gkFWdilTKcTR"
      },
      "source": [
        "Invoice의 각 패턴별, label (항목)의 위치를 정의한 json 파일을 읽는다."
      ]
    },
    {
      "cell_type": "code",
      "metadata": {
        "colab": {
          "base_uri": "https://localhost:8080/"
        },
        "id": "QUbmlAgc4JRq",
        "outputId": "09ee1987-ad19-401f-97f2-2f28f04c81c1"
      },
      "source": [
        "import json\r\n",
        "with open('OCR/pattern.json') as f:\r\n",
        "  pattern = json.load(f)\r\n",
        "pattern_type1 = pattern[invoice_type]\r\n",
        "pattern_type1"
      ],
      "execution_count": 13,
      "outputs": [
        {
          "output_type": "execute_result",
          "data": {
            "text/plain": [
              "{'address': [46, 150, 162, 189],\n",
              " 'bill to': [49, 259, 178, 324],\n",
              " 'company': [48, 114, 144, 137],\n",
              " 'due date': [625, 315, 702, 335],\n",
              " 'invoice date': [628, 263, 702, 282],\n",
              " 'ship to': [267, 261, 398, 321],\n",
              " 'table': {'rect': [39, 471, 700, 666], 'x': [111, 410, 611]},\n",
              " 'total': [556, 380, 698, 425]}"
            ]
          },
          "metadata": {
            "tags": []
          },
          "execution_count": 13
        }
      ]
    },
    {
      "cell_type": "markdown",
      "metadata": {
        "id": "P7KmG33QUAmi"
      },
      "source": [
        "각 항목의 위치를 확인"
      ]
    },
    {
      "cell_type": "code",
      "metadata": {
        "colab": {
          "base_uri": "https://localhost:8080/",
          "height": 1000
        },
        "id": "uI3GLWbI4ACq",
        "outputId": "9a35e1ea-a013-4fac-a466-9383d72b3c7f"
      },
      "source": [
        "im_data2 = im_data.copy()\r\n",
        "# Blue color in BGR \r\n",
        "color = (0, 0, 255) \r\n",
        "# Line thickness of 2 px \r\n",
        "thickness = 1\r\n",
        "for k in pattern_type1:\r\n",
        "    # Create a Rectangle patch\r\n",
        "    r = pattern_type1[k]\r\n",
        "    if k == 'table':\r\n",
        "        r = r['rect']\r\n",
        "    # Using cv2.rectangle() method \r\n",
        "    # Draw a rectangle with blue line borders of thickness of 2 px \r\n",
        "    im_data2 = cv2.rectangle(im_data2, (r[0],r[1]), (r[2],r[3]), color, thickness) \r\n",
        "    im_data2 = cv2.putText(im_data2,k,(r[0],r[1]-5),cv2.FONT_HERSHEY_SIMPLEX,0.5,color)\r\n",
        "\r\n",
        "cv2_imshow(im_data2)\r\n"
      ],
      "execution_count": 14,
      "outputs": [
        {
          "output_type": "display_data",
          "data": {
            "image/png": "[encoded data removed]",
            "text/plain": [
              "<PIL.Image.Image image mode=RGB size=750x1061 at 0x7FBDD40B33C8>"
            ]
          },
          "metadata": {
            "tags": []
          }
        }
      ]
    },
    {
      "cell_type": "markdown",
      "metadata": {
        "id": "fxuL4x7lUGgs"
      },
      "source": [
        "각 항목의 OCR 인식"
      ]
    },
    {
      "cell_type": "code",
      "metadata": {
        "colab": {
          "base_uri": "https://localhost:8080/"
        },
        "id": "Y8Of-veaT2xa",
        "outputId": "64faca95-bc49-4534-a4e3-e1ddf6fa7139"
      },
      "source": [
        "for k in pattern_type1:\r\n",
        "    # Create a Rectangle patch\r\n",
        "    r = pattern_type1[k]\r\n",
        "    if k == 'table':\r\n",
        "        r = r['rect']    \r\n",
        "\r\n",
        "    text_part=im_data[r[1]:r[3],r[0]:r[2],:]\r\n",
        "    results = reader.readtext(text_part,detail=1)\r\n",
        "    texts = \"\"\r\n",
        "    for result in results:\r\n",
        "        rect = result[0]\r\n",
        "        text = result[1]\r\n",
        "        prob = result[2]\r\n",
        "        texts += ' ' + text + '('+str(prob)+')'\r\n",
        "\r\n",
        "    print(k,':',texts.strip())"
      ],
      "execution_count": 15,
      "outputs": [
        {
          "output_type": "stream",
          "text": [
            "company : John Smith(0.2592349350452423)\n",
            "address : 44g0 Oak Drive(0.20110084116458893) Albany, NV12210(0.1706131398677826)\n",
            "bill to : Jessie IMHorne(0.25744327902793884) 4312(0.9053566455841064) Road(0.9511789679527283) New York, NY 10031(0.044691286981105804) Waod(0.3954632878303528)\n",
            "ship to : Jessie MHorne(0.09984048455953598) 2019 Redbud Drive(0.21715569496154785) New York, NY 10011(0.1370539665222168)\n",
            "invoice date : 11/02/2019(0.36061039566993713)\n",
            "due date : 26/02/2019(0.4747155010700226)\n",
            "table : QTY(0.9761552810668945) DESCRIPTION(0.8981473445892334) UNIT PRICE(0.6656361818313599) AMOUNT(0.6792299747467041) Front and rear brake cables(0.274436354637146) 100.00(0.15860138833522797) 100.00(0.18814349174499512) New sel of pedal arms(0.15258391201496124) 25,00(0.3179757297039032) 50.00(0.6954557299613953) Labor(0.9938431978225708) 15.00(0.4065167009830475) 45.00(0.5449066162109375) Subtotal(0.7371389865875244) 195.00(0.6155807375907898) Sales Tax 5.0%(0.39414289593696594) 9.75(0.3988758623600006) 3nis(0.3481346666812897)\n",
            "total : $204.75(0.37153953313827515)\n"
          ],
          "name": "stdout"
        }
      ]
    },
    {
      "cell_type": "markdown",
      "metadata": {
        "id": "wFDuFgLYsfTj"
      },
      "source": [
        "spelling check에 의한 보정 처리"
      ]
    },
    {
      "cell_type": "code",
      "metadata": {
        "colab": {
          "base_uri": "https://localhost:8080/"
        },
        "id": "mRfmK0dFvG82",
        "outputId": "8472a06f-3798-412e-b0e1-90c3fb281ac8"
      },
      "source": [
        "!pip install Fuzzywuzzy "
      ],
      "execution_count": 16,
      "outputs": [
        {
          "output_type": "stream",
          "text": [
            "Collecting Fuzzywuzzy\n",
            "  Downloading https://files.pythonhosted.org/packages/43/ff/74f23998ad2f93b945c0309f825be92e04e0348e062026998b5eefef4c33/fuzzywuzzy-0.18.0-py2.py3-none-any.whl\n",
            "Installing collected packages: Fuzzywuzzy\n",
            "Successfully installed Fuzzywuzzy-0.18.0\n"
          ],
          "name": "stdout"
        }
      ]
    },
    {
      "cell_type": "code",
      "metadata": {
        "id": "J8jpoZv3u-h_",
        "colab": {
          "base_uri": "https://localhost:8080/"
        },
        "outputId": "88051f4d-0829-4b68-f597-1c01673cf9c8"
      },
      "source": [
        "# import the fuzzywuzzy module\r\n",
        "from fuzzywuzzy import fuzz\r\n",
        "\r\n",
        "# spellcheck main class\r\n",
        "class SpellCheck:\r\n",
        "\r\n",
        "    # initialization method\r\n",
        "    def __init__(self, word_dict_file=None):\r\n",
        "        # open the dictionary file\r\n",
        "        self.file = open(word_dict_file, 'r')\r\n",
        "        \r\n",
        "        # load the file data in a variable\r\n",
        "        data = self.file.read()\r\n",
        "        \r\n",
        "        # store all the words in a list\r\n",
        "        data = data.split(\",\")\r\n",
        "        \r\n",
        "        # change all the words to lowercase\r\n",
        "        data = [i.lower() for i in data]\r\n",
        "        \r\n",
        "        # remove all the duplicates in the list\r\n",
        "        data = set(data)\r\n",
        "        \r\n",
        "        # store all the words into a class variable dictionary\r\n",
        "        self.dictionary = list(data)\r\n",
        "\r\n",
        "    # string setter method\r\n",
        "    def check(self, string_to_check):\r\n",
        "        # store the string to be checked in a class variable\r\n",
        "        self.string_to_check = string_to_check\r\n",
        "\r\n",
        "    # this method returns the possible suggestions of the correct words\r\n",
        "    def suggestions(self):\r\n",
        "        # store the words of the string to be checked in a list by using a split function\r\n",
        "        string_words = self.string_to_check.split()\r\n",
        "\r\n",
        "        # a list to store all the possible suggestions\r\n",
        "        suggestions = []\r\n",
        "\r\n",
        "        # loop over the number of words in the string to be checked\r\n",
        "        for i in range(len(string_words)):\r\n",
        "            \r\n",
        "            # loop over words in the dictionary\r\n",
        "            for name in self.dictionary:\r\n",
        "                \r\n",
        "                # if the fuzzywuzzy returns the matched value greater than 80\r\n",
        "                if fuzz.ratio(string_words[i].lower(), name.lower()) >= 75:\r\n",
        "                    \r\n",
        "                    # append the dict word to the suggestion list\r\n",
        "                    suggestions.append(name)\r\n",
        "\r\n",
        "        # return the suggestions list\r\n",
        "        return suggestions\r\n",
        "\r\n",
        "    # this method returns the corrected string of the given input\r\n",
        "    def correct(self):\r\n",
        "        # store the words of the string to be checked in a list by using a split function\r\n",
        "        string_words = self.string_to_check.split()\r\n",
        "\r\n",
        "        # loop over the number of words in the string to be checked\r\n",
        "        for i in range(len(string_words)):\r\n",
        "            \r\n",
        "            # initiaze a maximum probability variable to 0\r\n",
        "            max_percent = 0\r\n",
        "\r\n",
        "            # loop over the words in the dictionary\r\n",
        "            for name in self.dictionary:\r\n",
        "                \r\n",
        "                # calulcate the match probability\r\n",
        "                percent = fuzz.ratio(string_words[i].lower(), name.lower())\r\n",
        "                \r\n",
        "                # if the fuzzywuzzy returns the matched value greater than 80\r\n",
        "                if percent >= 75:\r\n",
        "                    \r\n",
        "                    # if the matched probability is\r\n",
        "                    if percent > max_percent:\r\n",
        "                        \r\n",
        "                        # change the original value with the corrected matched value\r\n",
        "                        string_words[i] = name\r\n",
        "                    \r\n",
        "                    # change the max percent to the current matched percent\r\n",
        "                    max_percent = percent\r\n",
        "        \r\n",
        "        # return the cprrected string\r\n",
        "        return \" \".join(string_words)    "
      ],
      "execution_count": 17,
      "outputs": [
        {
          "output_type": "stream",
          "text": [
            "/usr/local/lib/python3.6/dist-packages/fuzzywuzzy/fuzz.py:11: UserWarning: Using slow pure-python SequenceMatcher. Install python-Levenshtein to remove this warning\n",
            "  warnings.warn('Using slow pure-python SequenceMatcher. Install python-Levenshtein to remove this warning')\n"
          ],
          "name": "stderr"
        }
      ]
    },
    {
      "cell_type": "code",
      "metadata": {
        "id": "l2PN_8cgv64Q"
      },
      "source": [
        "import requests\r\n",
        "# 보정을 위한 word dictionary 구성\r\n",
        "word_dic = requests.get('https://raw.githubusercontent.com/pragnakalp/spellcheck-using-dictionary-in-python/master/words.txt').text\r\n",
        "# Invoice에서 사용하는 정상 word의 추가\r\n",
        "word_dic = ',Smith'\r\n",
        "word_dic = ',Home'\r\n",
        "word_dic += ',4490'\r\n",
        "word_dic += ',Wood'\r\n",
        "word_dic += ',NY'\r\n",
        "word_dic += ',Front,and,rear,brake,cables,New,set,of,pedal,arms,Labor,3hrs,Subtotal'\r\n",
        "f = open(\"word_dic.txt\", \"w\")\r\n",
        "f.write(word_dic)\r\n",
        "f.close()"
      ],
      "execution_count": 18,
      "outputs": []
    },
    {
      "cell_type": "code",
      "metadata": {
        "colab": {
          "base_uri": "https://localhost:8080/"
        },
        "id": "lP_Tr1Bauuh6",
        "outputId": "2f10af6e-6e94-482a-e6cb-2325fcf408f0"
      },
      "source": [
        "\r\n",
        "# create an object\r\n",
        "spell_check = SpellCheck(\"word_dic.txt\")\r\n",
        "\r\n",
        "# set the string\r\n",
        "string_to_be_checked = \"Gujrt Delh Vodadra 44g0 M Horne Waod smiih\"\r\n",
        "spell_check.check(string_to_be_checked)\r\n",
        "\r\n",
        "# print suggestions and correction\r\n",
        "print(spell_check.suggestions())\r\n",
        "print(spell_check.correct())"
      ],
      "execution_count": 19,
      "outputs": [
        {
          "output_type": "stream",
          "text": [
            "['4490', 'wood']\n",
            "Gujrt Delh Vodadra 4490 M Horne wood smiih\n"
          ],
          "name": "stdout"
        }
      ]
    },
    {
      "cell_type": "markdown",
      "metadata": {
        "id": "mPA5adqexLv8"
      },
      "source": [
        "OCR의 확율이 낮은 애들은 spelling 보정 처리 적용"
      ]
    },
    {
      "cell_type": "code",
      "metadata": {
        "colab": {
          "base_uri": "https://localhost:8080/"
        },
        "id": "6xk0J64AxTu8",
        "outputId": "51d3fb4d-2052-473a-91dc-1c3dcb95796c"
      },
      "source": [
        "for k in pattern_type1:\r\n",
        "    # Create a Rectangle patch\r\n",
        "    r = pattern_type1[k]\r\n",
        "    if k == 'table':\r\n",
        "        r = r['rect']        \r\n",
        "\r\n",
        "    text_part=im_data[r[1]:r[3],r[0]:r[2],:]\r\n",
        "\r\n",
        "    results = reader.readtext(text_part,detail=1)\r\n",
        "    texts = \"\"\r\n",
        "    for result in results:\r\n",
        "        spell_fix = 'None'\r\n",
        "        rect = result[0]\r\n",
        "        text = result[1]\r\n",
        "        prob = result[2]\r\n",
        "        # OCR 인식확률 0.4 이하의 경우, Spelling check 처리\r\n",
        "        if prob <= 0.4:\r\n",
        "            back_text = text\r\n",
        "            spell_check.check(text)\r\n",
        "            text = spell_check.correct()\r\n",
        "            #print(back_text,text)\r\n",
        "            if back_text.lower() != text.lower():\r\n",
        "                spell_fix = 'fix'\r\n",
        "\r\n",
        "        texts += ' ' + text + '('+str(prob)+','+str(spell_fix)+')'\r\n",
        "\r\n",
        "    print(k,':',texts.strip())"
      ],
      "execution_count": 20,
      "outputs": [
        {
          "output_type": "stream",
          "text": [
            "company : John Smith(0.2592349350452423,None)\n",
            "address : 4490 Oak Drive(0.20110084116458893,fix) Albany, NV12210(0.1706131398677826,None)\n",
            "bill to : Jessie IMHorne(0.25744327902793884,None) 4312(0.9053566455841064,None) Road(0.9511789679527283,None) new York, ny 10031(0.044691286981105804,None) wood(0.3954632878303528,fix)\n",
            "ship to : Jessie MHorne(0.09984048455953598,None) 2019 Redbud Drive(0.21715569496154785,None) new York, ny 10011(0.1370539665222168,None)\n",
            "invoice date : 11/02/2019(0.36061039566993713,None)\n",
            "due date : 26/02/2019(0.4747155010700226,None)\n",
            "table : QTY(0.9761552810668945,None) DESCRIPTION(0.8981473445892334,None) UNIT PRICE(0.6656361818313599,None) AMOUNT(0.6792299747467041,None) front and rear brake cables(0.274436354637146,None) 100.00(0.15860138833522797,None) 100.00(0.18814349174499512,None) new sel of pedal arms(0.15258391201496124,None) 25,00(0.3179757297039032,None) 50.00(0.6954557299613953,None) Labor(0.9938431978225708,None) 15.00(0.4065167009830475,None) 45.00(0.5449066162109375,None) Subtotal(0.7371389865875244,None) 195.00(0.6155807375907898,None) Sales Tax 5.0%(0.39414289593696594,None) 9.75(0.3988758623600006,None) 3nis(0.3481346666812897,None)\n",
            "total : $204.75(0.37153953313827515,None)\n"
          ],
          "name": "stdout"
        }
      ]
    },
    {
      "cell_type": "markdown",
      "metadata": {
        "id": "tQjYcFJt8eAH"
      },
      "source": [
        "part 이미지를 200% 키우고 선명하게 sharpen 전처리하고 OCR인식한다."
      ]
    },
    {
      "cell_type": "code",
      "metadata": {
        "id": "FeXjgpD7eTDE"
      },
      "source": [
        "import cv2 as cv\r\n",
        "import numpy as np\r\n",
        "\r\n",
        "def unsharp_mask2(image, kernel_size=(5, 5), sigma=2.0, amount=2.0, threshold=0):\r\n",
        "    \"\"\"Return a sharpened version of the image, using an unsharp mask.\"\"\"\r\n",
        "    blurred = cv.GaussianBlur(image, kernel_size, sigma)\r\n",
        "    sharpened = float(amount + 1) * image - float(amount) * blurred\r\n",
        "    sharpened = np.maximum(sharpened, np.zeros(sharpened.shape))\r\n",
        "    sharpened = np.minimum(sharpened, 255 * np.ones(sharpened.shape))\r\n",
        "    sharpened = sharpened.round().astype(np.uint8)\r\n",
        "    if threshold > 0:\r\n",
        "        low_contrast_mask = np.absolute(image - blurred) < threshold\r\n",
        "        np.copyto(sharpened, image, where=low_contrast_mask)\r\n",
        "    return sharpened"
      ],
      "execution_count": 23,
      "outputs": []
    },
    {
      "cell_type": "code",
      "metadata": {
        "id": "8keB8BTmj1nL"
      },
      "source": [
        "\r\n",
        "def unsharp_mask(image):\r\n",
        "    #sharpening_1 = np.array([[-1, -1, -1], [-1, 9, -1], [-1, -1, -1]])\r\n",
        "    sharpening_2 = np.array([[-1, -1, -1, -1, -1],\r\n",
        "                            [-1, 2, 2, 2, -1],\r\n",
        "                            [-1, 2, 9, 2, -1],\r\n",
        "                            [-1, 2, 2, 2, -1],\r\n",
        "                            [-1, -1, -1, -1, -1]]) / 9.0\r\n",
        "\r\n",
        "    #dst = cv2.filter2D(image, -1, sharpening_1)\r\n",
        "    #cv2.imshow('Sharpening1', dst)\r\n",
        "\r\n",
        "    dst = cv2.filter2D(image, -1, sharpening_2)\r\n",
        "    return dst"
      ],
      "execution_count": 24,
      "outputs": []
    },
    {
      "cell_type": "code",
      "metadata": {
        "id": "8DcRcznF8oQ-"
      },
      "source": [
        "import cv2\r\n",
        "import numpy as np\r\n",
        "from PIL import Image, ImageEnhance\r\n",
        "\r\n",
        "def preprocessing_part_image(img, scale_percent = 200):\r\n",
        "    #scale_percent = 60 # percent of original size\r\n",
        "    if scale_percent <= 100:\r\n",
        "        pass\r\n",
        "    else:\r\n",
        "        width = int(img.shape[1] * scale_percent / 100)\r\n",
        "        height = int(img.shape[0] * scale_percent / 100)\r\n",
        "        dim = (width, height)\r\n",
        "        # resize image\r\n",
        "        img = cv2.resize(img, dim)#, interpolation = cv2.INTER_AREA)\r\n",
        "        #img = img * 255\r\n",
        "        # Sharpen image\r\n",
        "        #img.astype(np.float64)\r\n",
        "    #img = unsharp_mask2(img)\r\n",
        "    return img"
      ],
      "execution_count": 40,
      "outputs": []
    },
    {
      "cell_type": "code",
      "metadata": {
        "colab": {
          "base_uri": "https://localhost:8080/"
        },
        "id": "kMNFKeX69Dl8",
        "outputId": "3632b584-eed2-46b0-8757-871e41390451"
      },
      "source": [
        "\r\n",
        "for k in pattern_type1:\r\n",
        "    # Create a Rectangle patch\r\n",
        "    r = pattern_type1[k]\r\n",
        "    if k == 'table':\r\n",
        "        r = r['rect']        \r\n",
        "    text_part=im_data[r[1]:r[3],r[0]:r[2],:]\r\n",
        "    results = reader.readtext(preprocessing_part_image(text_part,scale_percent = 200),detail=1)\r\n",
        "    texts = \"\"\r\n",
        "    for result in results:\r\n",
        "        rect = result[0]\r\n",
        "        text = result[1]\r\n",
        "        prob = result[2]\r\n",
        "        texts += ' ' + text + '('+str(prob)+')'\r\n",
        "\r\n",
        "    print(k,':',texts.strip())"
      ],
      "execution_count": 41,
      "outputs": [
        {
          "output_type": "stream",
          "text": [
            "company : John Smith(0.7469491362571716)\n",
            "address : 4490 Oak Drive(0.2956162989139557) NY 12210(0.40791916847229004) Albany,(0.5485931038856506)\n",
            "bill to : Jessie MHorne(0.7921890020370483) 4312 Wood Road(0.4277959167957306) New York, NY 10031(0.07618586719036102)\n",
            "ship to : Jessie MHorne(0.578524649143219) 2019 Redbud Drive(0.5137630701065063) York, NY 10011(0.25689804553985596) New(0.9787846207618713)\n",
            "invoice date : 11/02/2019(0.6563606858253479)\n",
            "due date : 26/02/2019(0.7870054244995117)\n",
            "table : QTY(0.9434832334518433) DESCRIPTION(0.8327618837356567) UNIT PRICE(0.413128525018692) AMOUNT(0.9665278196334839) Front and rear brake cables(0.06534215807914734) 100.00(0.7255829572677612) 100.00(0.8764060735702515) 2(0.7720112204551697) New set of pedal arms(0.31158629059791565) 25.00(0.4866543114185333) 50.00(0.8385621309280396) 3(0.7459871172904968) Labor 3hrs(0.9444293975830078) 15.00(0.6317181587219238) 45.00(0.7910798192024231) Subtotal(0.9930635690689087) 195.00(0.42375826835632324) Sales Tax 5.0%(0.14763866364955902) 9.75(0.4360501766204834)\n",
            "total : $204.75(0.5093486309051514)\n"
          ],
          "name": "stdout"
        }
      ]
    },
    {
      "cell_type": "markdown",
      "metadata": {
        "id": "KKIPR3efKcyJ"
      },
      "source": [
        "이미지 보정 + spelling 보정"
      ]
    },
    {
      "cell_type": "code",
      "metadata": {
        "id": "bQljGjuDWlqq"
      },
      "source": [
        "def recognition_correction(text_part_image,scale_percent = 200,rate_threshold=0.4):\r\n",
        "    results = reader.readtext(preprocessing_part_image(text_part_image,scale_percent=scale_percent),detail=1)\r\n",
        "    texts = []\r\n",
        "    infos = []\r\n",
        "    for result in results:\r\n",
        "        spell_fix = 'None'\r\n",
        "        rect = result[0]\r\n",
        "        text = result[1]\r\n",
        "        prob = result[2]\r\n",
        "        # OCR 인식확률 0.4 이하의 경우, Spelling check 처리\r\n",
        "        if prob <= rate_threshold:\r\n",
        "            back_text = text\r\n",
        "            spell_check.check(text)\r\n",
        "            texts.append(spell_check.correct())\r\n",
        "            #print(back_text,text)\r\n",
        "            if back_text.lower() != text.lower():\r\n",
        "                spell_fix = 'fix'\r\n",
        "        else:\r\n",
        "            texts.append(text)\r\n",
        "        infos.append((prob,spell_fix))\r\n",
        "\r\n",
        "    return (' '.join(texts) if len(texts) > 0 else '').strip(),infos\r\n"
      ],
      "execution_count": 42,
      "outputs": []
    },
    {
      "cell_type": "code",
      "metadata": {
        "colab": {
          "base_uri": "https://localhost:8080/"
        },
        "id": "7mhMo9raLJhS",
        "outputId": "b391d277-d1ae-4e50-b1bd-43b63a2e2804"
      },
      "source": [
        "for k in pattern_type1:\r\n",
        "    # Create a Rectangle patch\r\n",
        "    r = pattern_type1[k]\r\n",
        "    if k == 'table':\r\n",
        "        r = r['rect']        \r\n",
        "    text_part=im_data[r[1]:r[3],r[0]:r[2],:]\r\n",
        "    text,infos = recognition_correction(text_part)\r\n",
        "    print(k,':',text.strip(),infos)"
      ],
      "execution_count": 43,
      "outputs": [
        {
          "output_type": "stream",
          "text": [
            "company : John Smith [(0.7469491362571716, 'None')]\n",
            "address : 4490 Oak Drive NY 12210 Albany, [(0.2956162989139557, 'None'), (0.40791916847229004, 'None'), (0.5485931038856506, 'None')]\n",
            "bill to : Jessie MHorne 4312 Wood Road new York, ny 10031 [(0.7921890020370483, 'None'), (0.4277959167957306, 'None'), (0.07618586719036102, 'None')]\n",
            "ship to : Jessie MHorne 2019 Redbud Drive York, ny 10011 New [(0.578524649143219, 'None'), (0.5137630701065063, 'None'), (0.25689804553985596, 'None'), (0.9787846207618713, 'None')]\n",
            "invoice date : 11/02/2019 [(0.6563606858253479, 'None')]\n",
            "due date : 26/02/2019 [(0.7870054244995117, 'None')]\n",
            "table : QTY DESCRIPTION UNIT PRICE AMOUNT front and rear brake cables 100.00 100.00 2 new set of pedal arms 25.00 50.00 3 Labor 3hrs 15.00 45.00 Subtotal 195.00 Sales Tax 5.0% 9.75 [(0.9434832334518433, 'None'), (0.8327618837356567, 'None'), (0.413128525018692, 'None'), (0.9665278196334839, 'None'), (0.06534215807914734, 'None'), (0.7255829572677612, 'None'), (0.8764060735702515, 'None'), (0.7720112204551697, 'None'), (0.31158629059791565, 'None'), (0.4866543114185333, 'None'), (0.8385621309280396, 'None'), (0.7459871172904968, 'None'), (0.9444293975830078, 'None'), (0.6317181587219238, 'None'), (0.7910798192024231, 'None'), (0.9930635690689087, 'None'), (0.42375826835632324, 'None'), (0.14763866364955902, 'None'), (0.4360501766204834, 'None')]\n",
            "total : $204.75 [(0.5093486309051514, 'None')]\n"
          ],
          "name": "stdout"
        }
      ]
    },
    {
      "cell_type": "markdown",
      "metadata": {
        "id": "RmNbKNVgjV8H"
      },
      "source": [
        "표(Table)의 인식"
      ]
    },
    {
      "cell_type": "code",
      "metadata": {
        "id": "uL13NK9DZDC_"
      },
      "source": [
        "import pandas as pd\r\n",
        "\r\n",
        "class TableImage2DataFrame:\r\n",
        "    # Blue color in BGR \r\n",
        "    color = (0, 0, 255) \r\n",
        "    # Line thickness of 2 px \r\n",
        "    thickness = 1    \r\n",
        "    def __init__(self, image,table_info):\r\n",
        "        self.column_rect = []\r\n",
        "        t = table_info['rect']\r\n",
        "        self.column_offset = table_info['x']\r\n",
        "        self.raw_offset = []\r\n",
        "        self.table_part=image[t[1]:t[3],t[0]:t[2],:]\r\n",
        "        self.lx = t[2]-t[0]-1\r\n",
        "        self.ly = t[3]-t[1]-1\r\n",
        "        table_part2 = self.table_part.copy()\r\n",
        "        xs = [0] + [x-t[0] for x in self.column_offset]+[self.lx]\r\n",
        "        for i in range(len(xs)-1):\r\n",
        "            rect = [(xs[i],0),(xs[i+1],self.ly)]\r\n",
        "            self.column_rect.append(rect)\r\n",
        "\r\n",
        "        for tr in self.column_rect:\r\n",
        "            table_part2 = cv2.rectangle(table_part2, tr[0],tr[1], color, thickness)\r\n",
        "\r\n",
        "        #cv2_imshow(table_part2) \r\n",
        "\r\n",
        "    def __add_offset(self,yos,offset_range=5):\r\n",
        "        \r\n",
        "        allow_add = True\r\n",
        "        for ro in self.raw_offset:\r\n",
        "            if yos > ro-offset_range and yos < ro+offset_range:\r\n",
        "                allow_add = False\r\n",
        "        if allow_add:\r\n",
        "            self.raw_offset.append(yos)\r\n",
        "\r\n",
        "    def __get_rawoffset(self):\r\n",
        "        for (r0,r1),(r2,r3) in self.column_rect:     \r\n",
        "            text_part=self.table_part[r1:r3,r0:r2,:]\r\n",
        "            results = reader.readtext(text_part,detail=1)\r\n",
        "            texts = \"\"\r\n",
        "            for result in results:\r\n",
        "                rect = result[0]\r\n",
        "                #text = result[1]\r\n",
        "                #prob = result[2]\r\n",
        "                self.__add_offset(rect[0][1])\r\n",
        "                #print(text,prob,rect)\r\n",
        "            #print('-'*30)\r\n",
        "        self.__add_offset(self.ly)\r\n",
        "        #print(self.raw_offset)\r\n",
        "\r\n",
        "    def get_table_data(self,scale_percent = 200,rate_threshold=0.4):\r\n",
        "        self.__get_rawoffset()\r\n",
        "        data = {}\r\n",
        "        for (r0,r1),(r2,r3) in self.column_rect:\r\n",
        "            header = \"\"   \r\n",
        "            for i in range(len(self.raw_offset)-1):\r\n",
        "                text_part=self.table_part[self.raw_offset[i]:self.raw_offset[i+1],r0:r2,:]\r\n",
        "                text,infos = recognition_correction(text_part,scale_percent,rate_threshold)\r\n",
        "                if i == 0:\r\n",
        "                    header = text\r\n",
        "                    data[header] = []\r\n",
        "                else:\r\n",
        "                    data[header].append(text)\r\n",
        "\r\n",
        "        df = pd.DataFrame(data) \r\n",
        "        return df        "
      ],
      "execution_count": 44,
      "outputs": []
    },
    {
      "cell_type": "code",
      "metadata": {
        "colab": {
          "base_uri": "https://localhost:8080/",
          "height": 199
        },
        "id": "Rq40aYyUacSo",
        "outputId": "67aa6dcf-a8fc-44a4-9a31-7e243347ac58"
      },
      "source": [
        "tf = TableImage2DataFrame(im_data,pattern_type1['table'])\r\n",
        "df = tf.get_table_data(scale_percent = 200)\r\n",
        "df   "
      ],
      "execution_count": 46,
      "outputs": [
        {
          "output_type": "execute_result",
          "data": {
            "text/html": [
              "<div>\n",
              "<style scoped>\n",
              "    .dataframe tbody tr th:only-of-type {\n",
              "        vertical-align: middle;\n",
              "    }\n",
              "\n",
              "    .dataframe tbody tr th {\n",
              "        vertical-align: top;\n",
              "    }\n",
              "\n",
              "    .dataframe thead th {\n",
              "        text-align: right;\n",
              "    }\n",
              "</style>\n",
              "<table border=\"1\" class=\"dataframe\">\n",
              "  <thead>\n",
              "    <tr style=\"text-align: right;\">\n",
              "      <th></th>\n",
              "      <th>QTY</th>\n",
              "      <th>DESCRIPTION</th>\n",
              "      <th>UNIT PRICE</th>\n",
              "      <th>AMOUNT</th>\n",
              "    </tr>\n",
              "  </thead>\n",
              "  <tbody>\n",
              "    <tr>\n",
              "      <th>0</th>\n",
              "      <td></td>\n",
              "      <td>front and rear brake cables</td>\n",
              "      <td>100.00</td>\n",
              "      <td>100.00</td>\n",
              "    </tr>\n",
              "    <tr>\n",
              "      <th>1</th>\n",
              "      <td>2</td>\n",
              "      <td>new sel of pedal arms</td>\n",
              "      <td>25.00</td>\n",
              "      <td>50.00</td>\n",
              "    </tr>\n",
              "    <tr>\n",
              "      <th>2</th>\n",
              "      <td>3</td>\n",
              "      <td>Labor 3hrs</td>\n",
              "      <td>15.00</td>\n",
              "      <td>45.00</td>\n",
              "    </tr>\n",
              "    <tr>\n",
              "      <th>3</th>\n",
              "      <td></td>\n",
              "      <td></td>\n",
              "      <td>Subtotal</td>\n",
              "      <td>195.00</td>\n",
              "    </tr>\n",
              "    <tr>\n",
              "      <th>4</th>\n",
              "      <td></td>\n",
              "      <td></td>\n",
              "      <td>Sales Tax 5.0%</td>\n",
              "      <td>9.75</td>\n",
              "    </tr>\n",
              "  </tbody>\n",
              "</table>\n",
              "</div>"
            ],
            "text/plain": [
              "  QTY                  DESCRIPTION      UNIT PRICE  AMOUNT\n",
              "0      front and rear brake cables          100.00  100.00\n",
              "1   2        new sel of pedal arms           25.00   50.00\n",
              "2   3                   Labor 3hrs           15.00   45.00\n",
              "3                                         Subtotal  195.00\n",
              "4                                   Sales Tax 5.0%    9.75"
            ]
          },
          "metadata": {
            "tags": []
          },
          "execution_count": 46
        }
      ]
    },
    {
      "cell_type": "markdown",
      "metadata": {
        "id": "3xIJKFtFb6p2"
      },
      "source": [
        "모든 종합 처리"
      ]
    },
    {
      "cell_type": "code",
      "metadata": {
        "colab": {
          "base_uri": "https://localhost:8080/"
        },
        "id": "lTKZBZgsb88b",
        "outputId": "118dd4a7-4de4-4c12-bc73-c30bb604c95c"
      },
      "source": [
        "for k in pattern_type1:\r\n",
        "    r = pattern_type1[k]\r\n",
        "    if k == 'table':\r\n",
        "        td = TableImage2DataFrame(im_data,r)\r\n",
        "        df = td.get_table_data(scale_percent=100)\r\n",
        "        print(df)\r\n",
        "    else:\r\n",
        "        text_part=im_data[r[1]:r[3],r[0]:r[2],:]\r\n",
        "        text,infos = recognition_correction(text_part)            \r\n",
        "        print(k,':',text.strip())"
      ],
      "execution_count": 48,
      "outputs": [
        {
          "output_type": "stream",
          "text": [
            "company : John Smith\n",
            "address : 4490 Oak Drive NY 12210 Albany,\n",
            "bill to : Jessie MHorne 4312 Wood Road new York, ny 10031\n",
            "ship to : Jessie MHorne 2019 Redbud Drive York, ny 10011 New\n",
            "invoice date : 11/02/2019\n",
            "due date : 26/02/2019\n",
            "  QTY                  DESCRIPTION      UNIT PRICE  AMOUNT\n",
            "0      Front and rear brake cables          100.00  100.00\n",
            "1            new set of pedal arms           25.00   50.00\n",
            "2                       labor 3hrs           15.00   45.00\n",
            "3                                         Subtotal  195.00\n",
            "4                                   Sales Tax 5.0%    9.75\n",
            "total : $204.75\n"
          ],
          "name": "stdout"
        }
      ]
    }
  ]
}