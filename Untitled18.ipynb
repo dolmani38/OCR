{
  "nbformat": 4,
  "nbformat_minor": 0,
  "metadata": {
    "colab": {
      "name": "Untitled18.ipynb",
      "provenance": [],
      "authorship_tag": "ABX9TyMaeL25+j5MtCa46XoasWvZ",
      "include_colab_link": true
    },
    "kernelspec": {
      "name": "python3",
      "display_name": "Python 3"
    },
    "accelerator": "GPU"
  },
  "cells": [
    {
      "cell_type": "markdown",
      "metadata": {
        "id": "view-in-github",
        "colab_type": "text"
      },
      "source": [
        "<a href=\"https://colab.research.google.com/github/dolmani38/OCR/blob/main/Untitled18.ipynb\" target=\"_parent\"><img src=\"https://colab.research.google.com/assets/colab-badge.svg\" alt=\"Open In Colab\"/></a>"
      ]
    },
    {
      "cell_type": "code",
      "metadata": {
        "colab": {
          "base_uri": "https://localhost:8080/"
        },
        "id": "gixddmO7zyZa",
        "outputId": "fc1b9d91-3ac4-4994-bae4-b957c5f5be8e"
      },
      "source": [
        "!pip install easyocr"
      ],
      "execution_count": 1,
      "outputs": [
        {
          "output_type": "stream",
          "text": [
            "Collecting easyocr\n",
            "\u001b[?25l  Downloading https://files.pythonhosted.org/packages/9d/02/29153366ab597262ec940e93c9235dde116baf9f5942d0500963c5f4e2ed/easyocr-1.2.4-py3-none-any.whl (62.3MB)\n",
            "\u001b[K     |████████████████████████████████| 62.4MB 45kB/s \n",
            "\u001b[?25hRequirement already satisfied: scipy in /usr/local/lib/python3.6/dist-packages (from easyocr) (1.4.1)\n",
            "Requirement already satisfied: scikit-image in /usr/local/lib/python3.6/dist-packages (from easyocr) (0.16.2)\n",
            "Requirement already satisfied: Pillow in /usr/local/lib/python3.6/dist-packages (from easyocr) (7.0.0)\n",
            "Requirement already satisfied: PyYAML in /usr/local/lib/python3.6/dist-packages (from easyocr) (3.13)\n",
            "Requirement already satisfied: opencv-python in /usr/local/lib/python3.6/dist-packages (from easyocr) (4.1.2.30)\n",
            "Collecting python-bidi\n",
            "  Downloading https://files.pythonhosted.org/packages/33/b0/f942d146a2f457233baaafd6bdf624eba8e0f665045b4abd69d1b62d097d/python_bidi-0.4.2-py2.py3-none-any.whl\n",
            "Requirement already satisfied: numpy in /usr/local/lib/python3.6/dist-packages (from easyocr) (1.19.5)\n",
            "Requirement already satisfied: torchvision>=0.5 in /usr/local/lib/python3.6/dist-packages (from easyocr) (0.8.1+cu101)\n",
            "Requirement already satisfied: torch in /usr/local/lib/python3.6/dist-packages (from easyocr) (1.7.0+cu101)\n",
            "Requirement already satisfied: imageio>=2.3.0 in /usr/local/lib/python3.6/dist-packages (from scikit-image->easyocr) (2.4.1)\n",
            "Requirement already satisfied: networkx>=2.0 in /usr/local/lib/python3.6/dist-packages (from scikit-image->easyocr) (2.5)\n",
            "Requirement already satisfied: PyWavelets>=0.4.0 in /usr/local/lib/python3.6/dist-packages (from scikit-image->easyocr) (1.1.1)\n",
            "Requirement already satisfied: matplotlib!=3.0.0,>=2.0.0 in /usr/local/lib/python3.6/dist-packages (from scikit-image->easyocr) (3.2.2)\n",
            "Requirement already satisfied: six in /usr/local/lib/python3.6/dist-packages (from python-bidi->easyocr) (1.15.0)\n",
            "Requirement already satisfied: typing-extensions in /usr/local/lib/python3.6/dist-packages (from torch->easyocr) (3.7.4.3)\n",
            "Requirement already satisfied: dataclasses in /usr/local/lib/python3.6/dist-packages (from torch->easyocr) (0.8)\n",
            "Requirement already satisfied: future in /usr/local/lib/python3.6/dist-packages (from torch->easyocr) (0.16.0)\n",
            "Requirement already satisfied: decorator>=4.3.0 in /usr/local/lib/python3.6/dist-packages (from networkx>=2.0->scikit-image->easyocr) (4.4.2)\n",
            "Requirement already satisfied: python-dateutil>=2.1 in /usr/local/lib/python3.6/dist-packages (from matplotlib!=3.0.0,>=2.0.0->scikit-image->easyocr) (2.8.1)\n",
            "Requirement already satisfied: cycler>=0.10 in /usr/local/lib/python3.6/dist-packages (from matplotlib!=3.0.0,>=2.0.0->scikit-image->easyocr) (0.10.0)\n",
            "Requirement already satisfied: pyparsing!=2.0.4,!=2.1.2,!=2.1.6,>=2.0.1 in /usr/local/lib/python3.6/dist-packages (from matplotlib!=3.0.0,>=2.0.0->scikit-image->easyocr) (2.4.7)\n",
            "Requirement already satisfied: kiwisolver>=1.0.1 in /usr/local/lib/python3.6/dist-packages (from matplotlib!=3.0.0,>=2.0.0->scikit-image->easyocr) (1.3.1)\n",
            "Installing collected packages: python-bidi, easyocr\n",
            "Successfully installed easyocr-1.2.4 python-bidi-0.4.2\n"
          ],
          "name": "stdout"
        }
      ]
    },
    {
      "cell_type": "code",
      "metadata": {
        "colab": {
          "base_uri": "https://localhost:8080/"
        },
        "id": "B3QtNbY-CbPs",
        "outputId": "c4769f60-40b7-4aa0-d3ea-42a70a1a549c"
      },
      "source": [
        "import easyocr\r\n",
        "reader = easyocr.Reader(['en'], gpu = True) # need to run only once to load model into memory"
      ],
      "execution_count": 2,
      "outputs": [
        {
          "output_type": "stream",
          "text": [
            "Downloading detection model, please wait. This may take several minutes depending upon your network connection.\n"
          ],
          "name": "stderr"
        },
        {
          "output_type": "stream",
          "text": [
            ""
          ],
          "name": "stdout"
        },
        {
          "output_type": "stream",
          "text": [
            "Downloading recognition model, please wait. This may take several minutes depending upon your network connection.\n"
          ],
          "name": "stderr"
        },
        {
          "output_type": "stream",
          "text": [
            ""
          ],
          "name": "stdout"
        }
      ]
    },
    {
      "cell_type": "markdown",
      "metadata": {
        "id": "g0lmS8HxTE9R"
      },
      "source": [
        "어떤 Invoice를 읽어 들인다."
      ]
    },
    {
      "cell_type": "code",
      "metadata": {
        "colab": {
          "base_uri": "https://localhost:8080/",
          "height": 1000
        },
        "id": "TCCTODaBOonR",
        "outputId": "6860304b-dfe0-47d4-dd85-f5af1b4e9c90"
      },
      "source": [
        "import matplotlib.pyplot as plt \r\n",
        "import matplotlib as mpl\r\n",
        "import matplotlib.patches as patches\r\n",
        "import matplotlib.image as mpimg\r\n",
        "import random\r\n",
        "\r\n",
        "invoices=['https://github.com/dolmani38/OCR/blob/main/invoice/invoice-template-en-band-blue-750px.png?raw=true',\r\n",
        "'https://github.com/dolmani38/OCR/blob/main/invoice/invoice-template-en-classic-blue-750px.png?raw=true']\r\n",
        "\r\n",
        "invoice = random.choices(invoices)[0]\r\n",
        "invoice\r\n",
        "im_path = invoice\r\n",
        "\r\n",
        "dpi = mpl.rcParams['figure.dpi']\r\n",
        "im_data = plt.imread(im_path)\r\n",
        "height, width, depth = im_data.shape\r\n",
        "\r\n",
        "# What size does the figure need to be in inches to fit the image?\r\n",
        "figsize = width / float(dpi), height / float(dpi)\r\n",
        "\r\n",
        "# Create a figure of the right size with one axes that takes up the full figure\r\n",
        "fig = plt.figure(figsize=figsize)\r\n",
        "ax = fig.add_axes([0, 0, 1, 1])\r\n",
        "\r\n",
        "# Hide spines, ticks, etc.\r\n",
        "ax.axis('off')\r\n",
        "\r\n",
        "# Display the image.\r\n",
        "ax.imshow(im_data, cmap='gray')"
      ],
      "execution_count": 66,
      "outputs": [
        {
          "output_type": "execute_result",
          "data": {
            "text/plain": [
              "<matplotlib.image.AxesImage at 0x7ff4e16e97b8>"
            ]
          },
          "metadata": {
            "tags": []
          },
          "execution_count": 66
        },
        {
          "output_type": "display_data",
          "data": {
            "image/png": "[encoded data removed]",
            "text/plain": [
              "<Figure size 750x1061 with 1 Axes>"
            ]
          },
          "metadata": {
            "tags": [],
            "needs_background": "light"
          }
        }
      ]
    },
    {
      "cell_type": "markdown",
      "metadata": {
        "id": "mheMgp-tTTdY"
      },
      "source": [
        "Invoice의 type을 구분할 수 있는 정보가 들어 있는 json 파일을 loading하다. "
      ]
    },
    {
      "cell_type": "code",
      "metadata": {
        "colab": {
          "base_uri": "https://localhost:8080/"
        },
        "id": "7Fb-5kUYPCYy",
        "outputId": "8d68effb-8a84-4e0e-b902-9f2865173eb7"
      },
      "source": [
        "import requests\r\n",
        "import json\r\n",
        "url = 'https://raw.githubusercontent.com/dolmani38/OCR/main/type.json'\r\n",
        "js = requests.get(url).text\r\n",
        "types = json.loads(js)\r\n",
        "types"
      ],
      "execution_count": 67,
      "outputs": [
        {
          "output_type": "execute_result",
          "data": {
            "text/plain": [
              "{'type1': {'Invoice': [48, 380, 182, 424]},\n",
              " 'type2': {'INVOICE': [593, 74, 688, 102], 'Invoice': [532, 256, 582, 275]}}"
            ]
          },
          "metadata": {
            "tags": []
          },
          "execution_count": 67
        }
      ]
    },
    {
      "cell_type": "markdown",
      "metadata": {
        "id": "gZAt2iUBTj3m"
      },
      "source": [
        "Invoice의 type을 구분한다."
      ]
    },
    {
      "cell_type": "code",
      "metadata": {
        "colab": {
          "base_uri": "https://localhost:8080/"
        },
        "id": "jZ8Fc2saPQBm",
        "outputId": "b4646d5c-14a9-41f6-c689-4520db9c9bca"
      },
      "source": [
        "invoice_type = None\r\n",
        "\r\n",
        "for k in types:\r\n",
        "    # Create a Rectangle patch\r\n",
        "    features = types[k]\r\n",
        "    isT = True\r\n",
        "    for f in features:\r\n",
        "        r = features[f]\r\n",
        "        #rect = patches.Rectangle((r[0],r[1]),r[2]-r[0],r[3]-r[1],linewidth=1,edgecolor='r',facecolor='none')\r\n",
        "        text_part=im_data[r[1]:r[3],r[0]:r[2],:]\r\n",
        "        mpimg.imsave(\"out.png\", text_part)\r\n",
        "        result = reader.readtext(\"out.png\",detail=False)\r\n",
        "        print(k,[f],result)\r\n",
        "        if [f] == result:\r\n",
        "            pass\r\n",
        "        else:\r\n",
        "            isT = False\r\n",
        "    if isT:\r\n",
        "        invoice_type = k\r\n",
        "\r\n",
        "print('invoice_type:',invoice_type) "
      ],
      "execution_count": 68,
      "outputs": [
        {
          "output_type": "stream",
          "text": [
            "type1 ['Invoice'] ['Invoice']\n",
            "type2 ['INVOICE'] []\n",
            "type2 ['Invoice'] []\n",
            "invoice_type: type1\n"
          ],
          "name": "stdout"
        }
      ]
    },
    {
      "cell_type": "markdown",
      "metadata": {
        "id": "gkFWdilTKcTR"
      },
      "source": [
        "Invoice의 각 패턴별, label (항목)의 위치를 정의한 json 파일을 읽는다."
      ]
    },
    {
      "cell_type": "code",
      "metadata": {
        "colab": {
          "base_uri": "https://localhost:8080/"
        },
        "id": "QUbmlAgc4JRq",
        "outputId": "bc83fa2f-3cc9-4dbb-9fff-210e7b228a38"
      },
      "source": [
        "import requests\r\n",
        "import json\r\n",
        "url = 'https://raw.githubusercontent.com/dolmani38/OCR/main/pattern.json'\r\n",
        "\r\n",
        "js = requests.get(url).text\r\n",
        "\r\n",
        "pattern = json.loads(js)\r\n",
        "pattern_type1 = pattern[invoice_type]\r\n",
        "pattern_type1"
      ],
      "execution_count": 69,
      "outputs": [
        {
          "output_type": "execute_result",
          "data": {
            "text/plain": [
              "{'address': [46, 150, 162, 189],\n",
              " 'bill to': [49, 259, 178, 324],\n",
              " 'company': [48, 114, 144, 137],\n",
              " 'due date': [625, 315, 702, 335],\n",
              " 'invoice date': [628, 263, 702, 282],\n",
              " 'list': [39, 471, 700, 666],\n",
              " 'ship to': [267, 261, 398, 321],\n",
              " 'total': [556, 380, 698, 425]}"
            ]
          },
          "metadata": {
            "tags": []
          },
          "execution_count": 69
        }
      ]
    },
    {
      "cell_type": "markdown",
      "metadata": {
        "id": "P7KmG33QUAmi"
      },
      "source": [
        "각 항목의 위치를 확인"
      ]
    },
    {
      "cell_type": "code",
      "metadata": {
        "colab": {
          "base_uri": "https://localhost:8080/",
          "height": 1000
        },
        "id": "uI3GLWbI4ACq",
        "outputId": "859c6940-47d0-45f1-ed14-5d2992bfb91c"
      },
      "source": [
        "\r\n",
        "# Create a figure of the right size with one axes that takes up the full figure\r\n",
        "fig = plt.figure(figsize=figsize)\r\n",
        "ax = fig.add_axes([0, 0, 1, 1])\r\n",
        "\r\n",
        "# Hide spines, ticks, etc.\r\n",
        "ax.axis('off')\r\n",
        "\r\n",
        "# Display the image.\r\n",
        "ax.imshow(im_data, cmap='gray')\r\n",
        "for k in pattern_type1:\r\n",
        "    # Create a Rectangle patch\r\n",
        "    r = pattern_type1[k]\r\n",
        "    rect = patches.Rectangle((r[0],r[1]),r[2]-r[0],r[3]-r[1],linewidth=1,edgecolor='r',facecolor='none')\r\n",
        "    # Add the patch to the Axes\r\n",
        "    ax.add_patch(rect)\r\n",
        "    ax.text(r[0],r[1],k)\r\n",
        "    #text_part=im_data[r[1]:r[3],r[0]:r[2],:]\r\n",
        "    #mpimg.imsave(\"out.png\", text_part)\r\n",
        "    #ax2.imshow(text_part)\r\n",
        "    #result = reader.readtext(\"out.png\",detail=False)\r\n",
        "    #print(k,':',result)\r\n",
        "plt.show()\r\n"
      ],
      "execution_count": 70,
      "outputs": [
        {
          "output_type": "display_data",
          "data": {
            "image/png": "[encoded data removed]",
            "text/plain": [
              "<Figure size 750x1061 with 1 Axes>"
            ]
          },
          "metadata": {
            "tags": [],
            "needs_background": "light"
          }
        }
      ]
    },
    {
      "cell_type": "markdown",
      "metadata": {
        "id": "fxuL4x7lUGgs"
      },
      "source": [
        "각 항목의 OCR 인식"
      ]
    },
    {
      "cell_type": "code",
      "metadata": {
        "colab": {
          "base_uri": "https://localhost:8080/"
        },
        "id": "Y8Of-veaT2xa",
        "outputId": "c07fa6c5-b463-4bd3-f53a-2a4fb2749778"
      },
      "source": [
        "for k in pattern_type1:\r\n",
        "    # Create a Rectangle patch\r\n",
        "    r = pattern_type1[k]\r\n",
        "    #rect = patches.Rectangle((r[0],r[1]),r[2]-r[0],r[3]-r[1],linewidth=1,edgecolor='r',facecolor='none')\r\n",
        "    # Add the patch to the Axes\r\n",
        "    #ax.add_patch(rect)\r\n",
        "    #ax.text(r[0],r[1],k)\r\n",
        "    text_part=im_data[r[1]:r[3],r[0]:r[2],:]\r\n",
        "    mpimg.imsave(\"out.png\", text_part)\r\n",
        "    #ax2.imshow(text_part)\r\n",
        "    results = reader.readtext(\"out.png\",detail=1)\r\n",
        "    texts = \"\"\r\n",
        "    for result in results:\r\n",
        "        rect = result[0]\r\n",
        "        text = result[1]\r\n",
        "        prob = result[2]\r\n",
        "        texts += ' ' + text + '('+str(prob)+')'\r\n",
        "\r\n",
        "    print(k,':',texts.strip())"
      ],
      "execution_count": 71,
      "outputs": [
        {
          "output_type": "stream",
          "text": [
            "company : John Smith(0.2757461965084076)\n",
            "address : 44g0 Oak Drive(0.33178362250328064) Albany, NV12210(0.15760895609855652)\n",
            "bill to : Jessie IMHorne(0.2742331624031067) 4312(0.9008787870407104) Road(0.9526001214981079) New York, NY 10031(0.05031628534197807) Waod(0.37028005719184875)\n",
            "ship to : Jessie MHorne(0.10763842612504959) 2019 Redbud Drive(0.2174845188856125) New York, NY 10011(0.1398647576570511)\n",
            "invoice date : 11/02/2019(0.35865578055381775)\n",
            "due date : 26/02/2019(0.4944387972354889)\n",
            "list : QTY(0.9757046699523926) DESCRIPTION(0.8988959789276123) UNIT PRICE(0.6631256341934204) AMOUNT(0.6759074926376343) Front and rear brake cables(0.27126288414001465) 100.00(0.1559494286775589) 100.00(0.18827958405017853) New sel of pedal arms(0.15331439673900604) 25,00(0.32547980546951294) 50.00(0.6852335333824158) Labor(0.9939444661140442) 15.00(0.3896929919719696) 45.00(0.5520716905593872) Subtotal(0.7456018924713135) 195.00(0.6161174774169922) Sales Tax 5.0%(0.39733317494392395) 9.75(0.3996591567993164) 3nis(0.35428759455680847)\n",
            "total : $204.75(0.37297323346138)\n"
          ],
          "name": "stdout"
        }
      ]
    },
    {
      "cell_type": "markdown",
      "metadata": {
        "id": "wFDuFgLYsfTj"
      },
      "source": [
        "spelling check에 의한 보정 처리"
      ]
    },
    {
      "cell_type": "code",
      "metadata": {
        "colab": {
          "base_uri": "https://localhost:8080/"
        },
        "id": "mRfmK0dFvG82",
        "outputId": "01e90330-6a71-42a8-fdfd-c12963240c5b"
      },
      "source": [
        "!pip install Fuzzywuzzy "
      ],
      "execution_count": 10,
      "outputs": [
        {
          "output_type": "stream",
          "text": [
            "Collecting Fuzzywuzzy\n",
            "  Downloading https://files.pythonhosted.org/packages/43/ff/74f23998ad2f93b945c0309f825be92e04e0348e062026998b5eefef4c33/fuzzywuzzy-0.18.0-py2.py3-none-any.whl\n",
            "Installing collected packages: Fuzzywuzzy\n",
            "Successfully installed Fuzzywuzzy-0.18.0\n"
          ],
          "name": "stdout"
        }
      ]
    },
    {
      "cell_type": "code",
      "metadata": {
        "id": "J8jpoZv3u-h_"
      },
      "source": [
        "# import the fuzzywuzzy module\r\n",
        "from fuzzywuzzy import fuzz\r\n",
        "\r\n",
        "# spellcheck main class\r\n",
        "class SpellCheck:\r\n",
        "\r\n",
        "    # initialization method\r\n",
        "    def __init__(self, word_dict_file=None):\r\n",
        "        # open the dictionary file\r\n",
        "        self.file = open(word_dict_file, 'r')\r\n",
        "        \r\n",
        "        # load the file data in a variable\r\n",
        "        data = self.file.read()\r\n",
        "        \r\n",
        "        # store all the words in a list\r\n",
        "        data = data.split(\",\")\r\n",
        "        \r\n",
        "        # change all the words to lowercase\r\n",
        "        data = [i.lower() for i in data]\r\n",
        "        \r\n",
        "        # remove all the duplicates in the list\r\n",
        "        data = set(data)\r\n",
        "        \r\n",
        "        # store all the words into a class variable dictionary\r\n",
        "        self.dictionary = list(data)\r\n",
        "\r\n",
        "    # string setter method\r\n",
        "    def check(self, string_to_check):\r\n",
        "        # store the string to be checked in a class variable\r\n",
        "        self.string_to_check = string_to_check\r\n",
        "\r\n",
        "    # this method returns the possible suggestions of the correct words\r\n",
        "    def suggestions(self):\r\n",
        "        # store the words of the string to be checked in a list by using a split function\r\n",
        "        string_words = self.string_to_check.split()\r\n",
        "\r\n",
        "        # a list to store all the possible suggestions\r\n",
        "        suggestions = []\r\n",
        "\r\n",
        "        # loop over the number of words in the string to be checked\r\n",
        "        for i in range(len(string_words)):\r\n",
        "            \r\n",
        "            # loop over words in the dictionary\r\n",
        "            for name in self.dictionary:\r\n",
        "                \r\n",
        "                # if the fuzzywuzzy returns the matched value greater than 80\r\n",
        "                if fuzz.ratio(string_words[i].lower(), name.lower()) >= 75:\r\n",
        "                    \r\n",
        "                    # append the dict word to the suggestion list\r\n",
        "                    suggestions.append(name)\r\n",
        "\r\n",
        "        # return the suggestions list\r\n",
        "        return suggestions\r\n",
        "\r\n",
        "    # this method returns the corrected string of the given input\r\n",
        "    def correct(self):\r\n",
        "        # store the words of the string to be checked in a list by using a split function\r\n",
        "        string_words = self.string_to_check.split()\r\n",
        "\r\n",
        "        # loop over the number of words in the string to be checked\r\n",
        "        for i in range(len(string_words)):\r\n",
        "            \r\n",
        "            # initiaze a maximum probability variable to 0\r\n",
        "            max_percent = 0\r\n",
        "\r\n",
        "            # loop over the words in the dictionary\r\n",
        "            for name in self.dictionary:\r\n",
        "                \r\n",
        "                # calulcate the match probability\r\n",
        "                percent = fuzz.ratio(string_words[i].lower(), name.lower())\r\n",
        "                \r\n",
        "                # if the fuzzywuzzy returns the matched value greater than 80\r\n",
        "                if percent >= 75:\r\n",
        "                    \r\n",
        "                    # if the matched probability is\r\n",
        "                    if percent > max_percent:\r\n",
        "                        \r\n",
        "                        # change the original value with the corrected matched value\r\n",
        "                        string_words[i] = name\r\n",
        "                    \r\n",
        "                    # change the max percent to the current matched percent\r\n",
        "                    max_percent = percent\r\n",
        "        \r\n",
        "        # return the cprrected string\r\n",
        "        return \" \".join(string_words)    "
      ],
      "execution_count": 72,
      "outputs": []
    },
    {
      "cell_type": "code",
      "metadata": {
        "id": "l2PN_8cgv64Q"
      },
      "source": [
        "# 보정을 위한 word dictionary 구성\r\n",
        "word_dic = requests.get('https://raw.githubusercontent.com/pragnakalp/spellcheck-using-dictionary-in-python/master/words.txt').text\r\n",
        "# Invoice에서 사용하는 정상 word의 추가\r\n",
        "word_dic = ',MHorne'\r\n",
        "word_dic += ',4490'\r\n",
        "word_dic += ',Wood'\r\n",
        "word_dic += ',NY'\r\n",
        "word_dic += ',Front,and,rear,brake,cables,New,set,of,pedal,arms,Labor,3hrs,Subtotal'\r\n",
        "f = open(\"word_dic.txt\", \"w\")\r\n",
        "f.write(word_dic)\r\n",
        "f.close()"
      ],
      "execution_count": 73,
      "outputs": []
    },
    {
      "cell_type": "code",
      "metadata": {
        "colab": {
          "base_uri": "https://localhost:8080/"
        },
        "id": "lP_Tr1Bauuh6",
        "outputId": "636880ac-3a37-45dc-d78a-7bf8619e561f"
      },
      "source": [
        "\r\n",
        "# create an object\r\n",
        "spell_check = SpellCheck(\"word_dic.txt\")\r\n",
        "\r\n",
        "# set the string\r\n",
        "string_to_be_checked = \"Gujrt Delh Vodadra 44g0 IMHorne Waod\"\r\n",
        "spell_check.check(string_to_be_checked)\r\n",
        "\r\n",
        "# print suggestions and correction\r\n",
        "print(spell_check.suggestions())\r\n",
        "print(spell_check.correct())"
      ],
      "execution_count": 74,
      "outputs": [
        {
          "output_type": "stream",
          "text": [
            "['4490', 'mhorne', 'wood']\n",
            "Gujrt Delh Vodadra 4490 mhorne wood\n"
          ],
          "name": "stdout"
        }
      ]
    },
    {
      "cell_type": "markdown",
      "metadata": {
        "id": "mPA5adqexLv8"
      },
      "source": [
        "OCR의 확율이 낮은 애들은 spelling 보정 처리 적용"
      ]
    },
    {
      "cell_type": "code",
      "metadata": {
        "colab": {
          "base_uri": "https://localhost:8080/"
        },
        "id": "6xk0J64AxTu8",
        "outputId": "7504f0c1-538f-4261-a1b7-a628935375c9"
      },
      "source": [
        "for k in pattern_type1:\r\n",
        "    # Create a Rectangle patch\r\n",
        "    r = pattern_type1[k]\r\n",
        "    #rect = patches.Rectangle((r[0],r[1]),r[2]-r[0],r[3]-r[1],linewidth=1,edgecolor='r',facecolor='none')\r\n",
        "    # Add the patch to the Axes\r\n",
        "    #ax.add_patch(rect)\r\n",
        "    #ax.text(r[0],r[1],k)\r\n",
        "    text_part=im_data[r[1]:r[3],r[0]:r[2],:]\r\n",
        "    mpimg.imsave(\"out.png\", text_part)\r\n",
        "    #ax2.imshow(text_part)\r\n",
        "    results = reader.readtext(\"out.png\",detail=1)\r\n",
        "    texts = \"\"\r\n",
        "    for result in results:\r\n",
        "        spell_fix = 'None'\r\n",
        "        rect = result[0]\r\n",
        "        text = result[1]\r\n",
        "        prob = result[2]\r\n",
        "        # OCR 인식확률 0.4 이하의 경우, Spelling check 처리\r\n",
        "        if prob <= 0.4:\r\n",
        "            back_text = text\r\n",
        "            spell_check.check(text)\r\n",
        "            text = spell_check.correct()\r\n",
        "            #print(back_text,text)\r\n",
        "            if back_text.lower() != text.lower():\r\n",
        "                spell_fix = 'fix'\r\n",
        "\r\n",
        "        texts += ' ' + text + '('+str(prob)+','+str(spell_fix)+')'\r\n",
        "\r\n",
        "    print(k,':',texts.strip())"
      ],
      "execution_count": 75,
      "outputs": [
        {
          "output_type": "stream",
          "text": [
            "company : John Smith(0.2757461965084076,None)\n",
            "address : 4490 Oak Drive(0.33178362250328064,fix) Albany, NV12210(0.15760895609855652,None)\n",
            "bill to : Jessie mhorne(0.2742331624031067,fix) 4312(0.9008787870407104,None) Road(0.9526001214981079,None) new York, ny 10031(0.05031628534197807,None) wood(0.37028005719184875,fix)\n",
            "ship to : Jessie mhorne(0.10763842612504959,None) 2019 Redbud Drive(0.2174845188856125,None) new York, ny 10011(0.1398647576570511,None)\n",
            "invoice date : 11/02/2019(0.35865578055381775,None)\n",
            "due date : 26/02/2019(0.4944387972354889,None)\n",
            "list : QTY(0.9757046699523926,None) DESCRIPTION(0.8988959789276123,None) UNIT PRICE(0.6631256341934204,None) AMOUNT(0.6759074926376343,None) front and rear brake cables(0.27126288414001465,None) 100.00(0.1559494286775589,None) 100.00(0.18827958405017853,None) new sel of pedal arms(0.15331439673900604,None) 25,00(0.32547980546951294,None) 50.00(0.6852335333824158,None) Labor(0.9939444661140442,None) 15.00(0.3896929919719696,None) 45.00(0.5520716905593872,None) Subtotal(0.7456018924713135,None) 195.00(0.6161174774169922,None) Sales Tax 5.0%(0.39733317494392395,None) 9.75(0.3996591567993164,None) 3nis(0.35428759455680847,None)\n",
            "total : $204.75(0.37297323346138,None)\n"
          ],
          "name": "stdout"
        }
      ]
    },
    {
      "cell_type": "code",
      "metadata": {
        "colab": {
          "base_uri": "https://localhost:8080/"
        },
        "id": "yx4HAWOqu2so",
        "outputId": "fa0fbe39-10df-4b28-c4b8-d5659f197bc0"
      },
      "source": [
        "!pip install opencv-python"
      ],
      "execution_count": 15,
      "outputs": [
        {
          "output_type": "stream",
          "text": [
            "Requirement already satisfied: opencv-python in /usr/local/lib/python3.6/dist-packages (4.1.2.30)\n",
            "Requirement already satisfied: numpy>=1.11.3 in /usr/local/lib/python3.6/dist-packages (from opencv-python) (1.19.5)\n"
          ],
          "name": "stdout"
        }
      ]
    },
    {
      "cell_type": "markdown",
      "metadata": {
        "id": "tQjYcFJt8eAH"
      },
      "source": [
        "part 이미지를 200% 키우고 선명하게 sharpen 전처리하고 OCR인식한다."
      ]
    },
    {
      "cell_type": "code",
      "metadata": {
        "id": "FeXjgpD7eTDE"
      },
      "source": [
        "import cv2 as cv\r\n",
        "import numpy as np\r\n",
        "\r\n",
        "def unsharp_mask(image, kernel_size=(5, 5), sigma=2.0, amount=2.0, threshold=0):\r\n",
        "    \"\"\"Return a sharpened version of the image, using an unsharp mask.\"\"\"\r\n",
        "    blurred = cv.GaussianBlur(image, kernel_size, sigma)\r\n",
        "    sharpened = float(amount + 1) * image - float(amount) * blurred\r\n",
        "    sharpened = np.maximum(sharpened, np.zeros(sharpened.shape))\r\n",
        "    sharpened = np.minimum(sharpened, 255 * np.ones(sharpened.shape))\r\n",
        "    sharpened = sharpened.round().astype(np.uint8)\r\n",
        "    if threshold > 0:\r\n",
        "        low_contrast_mask = np.absolute(image - blurred) < threshold\r\n",
        "        np.copyto(sharpened, image, where=low_contrast_mask)\r\n",
        "    return sharpened"
      ],
      "execution_count": 76,
      "outputs": []
    },
    {
      "cell_type": "code",
      "metadata": {
        "id": "8DcRcznF8oQ-"
      },
      "source": [
        "import cv2\r\n",
        "import numpy as np\r\n",
        "from PIL import Image, ImageEnhance\r\n",
        "\r\n",
        "def preprocessing_part_image(img, temp_file_name = 'out.png', scale_percent = 200):\r\n",
        "    #scale_percent = 60 # percent of original size\r\n",
        "    width = int(img.shape[1] * scale_percent / 100)\r\n",
        "    height = int(img.shape[0] * scale_percent / 100)\r\n",
        "    dim = (width, height)\r\n",
        "\r\n",
        "    # resize image\r\n",
        "    img = cv2.resize(img, dim)#, interpolation = cv2.INTER_AREA)\r\n",
        "    img = img * 255\r\n",
        "    # Create kernel\r\n",
        "    kernel = np.array([[-1,-1,-1],[-1,9,-1],[-1,-1,-1]])\r\n",
        "\r\n",
        "    # Sharpen image\r\n",
        "    img.astype(np.float64)\r\n",
        "\r\n",
        "    #img = cv2.filter2D(img, -1, kernel)\r\n",
        "    #img = (img - np.min(img))/(np.max(img)- np.min(img))\r\n",
        "    #print(np.min(img))\r\n",
        "    #print(np.max(img))\r\n",
        "    #print(img)\r\n",
        "\r\n",
        "    #img = ImageEnhance.Sharpness(img).enhance(factor)\r\n",
        "    img = unsharp_mask(img, kernel_size=(5, 5), sigma=0.5, amount=0.5, threshold=0)\r\n",
        "    cv2.imwrite(temp_file_name,img)\r\n",
        "    #mpimg.imsave(temp_file_name, img)\r\n",
        "    return temp_file_name"
      ],
      "execution_count": 77,
      "outputs": []
    },
    {
      "cell_type": "code",
      "metadata": {
        "colab": {
          "base_uri": "https://localhost:8080/"
        },
        "id": "kMNFKeX69Dl8",
        "outputId": "39f4e715-c4ea-4f4e-886f-b3a0205e1823"
      },
      "source": [
        "\r\n",
        "for k in pattern_type1:\r\n",
        "    # Create a Rectangle patch\r\n",
        "    r = pattern_type1[k]\r\n",
        "    text_part=im_data[r[1]:r[3],r[0]:r[2],:]\r\n",
        "    results = reader.readtext(preprocessing_part_image(text_part,temp_file_name=k+'.png'),detail=1)\r\n",
        "    texts = \"\"\r\n",
        "    for result in results:\r\n",
        "        rect = result[0]\r\n",
        "        text = result[1]\r\n",
        "        prob = result[2]\r\n",
        "        texts += ' ' + text + '('+str(prob)+')'\r\n",
        "\r\n",
        "    print(k,':',texts.strip())"
      ],
      "execution_count": 78,
      "outputs": [
        {
          "output_type": "stream",
          "text": [
            "company : John Smith(0.7809004783630371)\n",
            "address : 4490 Oak Drive(0.35556426644325256) Albany, NY 12210(0.18922114372253418)\n",
            "bill to : Jessie MHorne(0.8932047486305237) 4312 Wood Road(0.28173336386680603) New York, NY 10031(0.11655143648386002)\n",
            "ship to : Jessie MHorne(0.620428740978241) 2019 Redbud Drive(0.33488550782203674) York, NV 10011(0.2146124243736267) New(0.9752411246299744)\n",
            "invoice date : 11/02/2019(0.6276291608810425)\n",
            "due date : 26/02/2019(0.7639175653457642)\n",
            "list : QTY(0.94685298204422) DESCRIPTION(0.8805471062660217) UNIT PRICE(0.44665583968162537) AMOUNT(0.9667015671730042) Front and rear brake cables(0.06155708059668541) 100.00(0.7270252704620361) 100.00(0.8136780858039856) 2(0.7531293034553528) New set of pedal arms(0.25308072566986084) 25.00(0.7474073171615601) 50.00(0.8615484833717346) 3(0.7359927892684937) Labor 3hrs(0.9454337358474731) 15.00(0.6911513209342957) 45.00(0.6201597452163696) Subtotal(0.9927409887313843) 195.00(0.43971914052963257) Sales Tax 5.0%(0.16762208938598633) 9.75(0.541831910610199)\n",
            "total : $204.75(0.5697219371795654)\n"
          ],
          "name": "stdout"
        }
      ]
    },
    {
      "cell_type": "markdown",
      "metadata": {
        "id": "KKIPR3efKcyJ"
      },
      "source": [
        "이미지 보정 + spelling 보정"
      ]
    },
    {
      "cell_type": "code",
      "metadata": {
        "id": "bQljGjuDWlqq"
      },
      "source": [
        "def recognition_correction(anchor_text,text_part_image,scale_percent = 200,rate_threshold=0.4):\r\n",
        "    results = reader.readtext(preprocessing_part_image(text_part_image,temp_file_name=anchor_text+'.png',scale_percent=scale_percent),detail=1)\r\n",
        "    texts = []\r\n",
        "    infos = []\r\n",
        "    for result in results:\r\n",
        "        spell_fix = 'None'\r\n",
        "        rect = result[0]\r\n",
        "        text = result[1]\r\n",
        "        prob = result[2]\r\n",
        "        # OCR 인식확률 0.4 이하의 경우, Spelling check 처리\r\n",
        "        if prob <= rate_threshold:\r\n",
        "            back_text = text\r\n",
        "            spell_check.check(text)\r\n",
        "            texts.append(spell_check.correct())\r\n",
        "            #print(back_text,text)\r\n",
        "            if back_text.lower() != text.lower():\r\n",
        "                spell_fix = 'fix'\r\n",
        "        else:\r\n",
        "            texts.append(text)\r\n",
        "        infos.append((prob,spell_fix))\r\n",
        "\r\n",
        "    return (' '.join(texts) if len(texts) > 0 else '').strip(),infos\r\n"
      ],
      "execution_count": 84,
      "outputs": []
    },
    {
      "cell_type": "code",
      "metadata": {
        "colab": {
          "base_uri": "https://localhost:8080/"
        },
        "id": "7mhMo9raLJhS",
        "outputId": "211cb5e4-e965-4869-cfa0-e19709b6d93c"
      },
      "source": [
        "for k in pattern_type1:\r\n",
        "    # Create a Rectangle patch\r\n",
        "    r = pattern_type1[k]\r\n",
        "    text_part=im_data[r[1]:r[3],r[0]:r[2],:]\r\n",
        "    text,infos = recognition_correction(k,text_part)\r\n",
        "    print(k,':',text.strip(),infos)"
      ],
      "execution_count": 85,
      "outputs": [
        {
          "output_type": "stream",
          "text": [
            "company : John Smith [(0.7809004783630371, 'None')]\n",
            "address : 4490 Oak Drive Albany, ny 12210 [(0.35556426644325256, 'None'), (0.18922114372253418, 'None')]\n",
            "bill to : Jessie MHorne 4312 wood Road new York, ny 10031 [(0.8932047486305237, 'None'), (0.28173336386680603, 'None'), (0.11655143648386002, 'None')]\n",
            "ship to : Jessie MHorne 2019 Redbud Drive York, NV 10011 New [(0.620428740978241, 'None'), (0.33488550782203674, 'None'), (0.2146124243736267, 'None'), (0.9752411246299744, 'None')]\n",
            "invoice date : 11/02/2019 [(0.6276291608810425, 'None')]\n",
            "due date : 26/02/2019 [(0.7639175653457642, 'None')]\n",
            "list : QTY DESCRIPTION UNIT PRICE AMOUNT front and rear brake cables 100.00 100.00 2 new set of pedal arms 25.00 50.00 3 Labor 3hrs 15.00 45.00 Subtotal 195.00 Sales Tax 5.0% 9.75 [(0.94685298204422, 'None'), (0.8805471062660217, 'None'), (0.44665583968162537, 'None'), (0.9667015671730042, 'None'), (0.06155708059668541, 'None'), (0.7270252704620361, 'None'), (0.8136780858039856, 'None'), (0.7531293034553528, 'None'), (0.25308072566986084, 'None'), (0.7474073171615601, 'None'), (0.8615484833717346, 'None'), (0.7359927892684937, 'None'), (0.9454337358474731, 'None'), (0.6911513209342957, 'None'), (0.6201597452163696, 'None'), (0.9927409887313843, 'None'), (0.43971914052963257, 'None'), (0.16762208938598633, 'None'), (0.541831910610199, 'None')]\n",
            "total : $204.75 [(0.5697219371795654, 'None')]\n"
          ],
          "name": "stdout"
        }
      ]
    },
    {
      "cell_type": "markdown",
      "metadata": {
        "id": "RmNbKNVgjV8H"
      },
      "source": [
        "표(Table)의 인식"
      ]
    },
    {
      "cell_type": "code",
      "metadata": {
        "id": "t7A5FAh5QV-n"
      },
      "source": [
        "import os\r\n",
        "import cv2\r\n",
        "import imutils\r\n",
        "import numpy as np\r\n",
        "import pandas as pd\r\n",
        "\r\n",
        "class TableImage2DataFrame:\r\n",
        "    def __init__(self, table_file_name='list.png'):\r\n",
        "        dpi = mpl.rcParams['figure.dpi']\r\n",
        "        self.im_data = plt.imread(table_file_name)\r\n",
        "        self.img = cv2.imread(table_file_name)\r\n",
        "        '''\r\n",
        "        height, width, depth = im_data.shape\r\n",
        "\r\n",
        "        # What size does the figure need to be in inches to fit the image?\r\n",
        "        figsize = width / float(dpi), height / float(dpi)\r\n",
        "\r\n",
        "        # Create a figure of the right size with one axes that takes up the full figure\r\n",
        "        fig = plt.figure(figsize=figsize)\r\n",
        "        ax = fig.add_axes([0, 0, 1, 1])\r\n",
        "\r\n",
        "        # Hide spines, ticks, etc.\r\n",
        "        ax.axis('off')\r\n",
        "\r\n",
        "        # Display the image.\r\n",
        "        ax.imshow(self.im_data, cmap='gray')        \r\n",
        "        '''\r\n",
        "    def __pre_process_image(self, morph_size=(8, 8)):\r\n",
        "\r\n",
        "        # get rid of the color\r\n",
        "        pre = cv2.cvtColor(self.img, cv2.COLOR_BGR2GRAY)\r\n",
        "        # Otsu threshold\r\n",
        "        pre = cv2.threshold(pre, 250, 255, cv2.THRESH_BINARY | cv2.THRESH_OTSU)[1]\r\n",
        "        # dilate the text to make it solid spot\r\n",
        "        cpy = pre.copy()\r\n",
        "        struct = cv2.getStructuringElement(cv2.MORPH_RECT, morph_size)\r\n",
        "        cpy = cv2.dilate(~cpy, struct, anchor=(-1, -1), iterations=1)\r\n",
        "        pre = ~cpy\r\n",
        "        return pre\r\n",
        "\r\n",
        "    def __find_text_boxes(self,pre, min_text_height_limit=6, max_text_height_limit=40):\r\n",
        "        # Looking for the text spots contours\r\n",
        "        # OpenCV 3\r\n",
        "        # img, contours, hierarchy = cv2.findContours(pre, cv2.RETR_LIST, cv2.CHAIN_APPROX_SIMPLE)\r\n",
        "        # OpenCV 4\r\n",
        "        contours, hierarchy = cv2.findContours(pre, cv2.RETR_LIST, cv2.CHAIN_APPROX_SIMPLE)\r\n",
        "\r\n",
        "        # Getting the texts bounding boxes based on the text size assumptions\r\n",
        "        boxes = []\r\n",
        "        for contour in contours:\r\n",
        "            box = cv2.boundingRect(contour)\r\n",
        "            h = box[3]\r\n",
        "\r\n",
        "            if min_text_height_limit < h < max_text_height_limit:\r\n",
        "                boxes.append(box)\r\n",
        "\r\n",
        "        return boxes\r\n",
        "\r\n",
        "\r\n",
        "    def __find_table_in_boxes(self, boxes, cell_threshold=10, min_columns=2):\r\n",
        "        rows = {}\r\n",
        "        cols = {}\r\n",
        "\r\n",
        "        # Clustering the bounding boxes by their positions\r\n",
        "        for box in boxes:\r\n",
        "            (x, y, w, h) = box\r\n",
        "            col_key = x // cell_threshold\r\n",
        "            row_key = y // cell_threshold\r\n",
        "            cols[row_key] = [box] if col_key not in cols else cols[col_key] + [box]\r\n",
        "            rows[row_key] = [box] if row_key not in rows else rows[row_key] + [box]\r\n",
        "\r\n",
        "        # Filtering out the clusters having less than 2 cols\r\n",
        "        table_cells = list(filter(lambda r: len(r) >= min_columns, rows.values()))\r\n",
        "        # Sorting the row cells by x coord\r\n",
        "        table_cells = [list(sorted(tb)) for tb in table_cells]\r\n",
        "        # Sorting rows by the y coord\r\n",
        "        table_cells = list(sorted(table_cells, key=lambda r: r[0][1]))\r\n",
        "\r\n",
        "        return table_cells\r\n",
        "\r\n",
        "\r\n",
        "    def __build_lines(self,table_cells):\r\n",
        "        if table_cells is None or len(table_cells) <= 0:\r\n",
        "            return [], []\r\n",
        "\r\n",
        "        max_last_col_width_row = max(table_cells, key=lambda b: b[-1][2])\r\n",
        "        min_first_col_width_row = min(table_cells, key=lambda b: b[0][0])\r\n",
        "        max_x = max_last_col_width_row[-1][0] + max_last_col_width_row[-1][2]\r\n",
        "        min_x = min_first_col_width_row[0][0]\r\n",
        "\r\n",
        "        max_last_row_height_box = max(table_cells[-1], key=lambda b: b[3])\r\n",
        "        mim_first_row_height_box = max(table_cells[0], key=lambda b: b[1])\r\n",
        "        max_y = max_last_row_height_box[1] + max_last_row_height_box[3]\r\n",
        "        min_y = mim_first_row_height_box[1]\r\n",
        "\r\n",
        "        hor_lines = []\r\n",
        "        ver_lines = []\r\n",
        "\r\n",
        "        for box in table_cells:\r\n",
        "            x = box[0][0]\r\n",
        "            y = box[0][1]\r\n",
        "            hor_lines.append((min_x, y, max_x, y))\r\n",
        "\r\n",
        "        for box in table_cells[0]:\r\n",
        "            x = box[0]\r\n",
        "            y = box[1]\r\n",
        "            ver_lines.append((x, min_y, x, max_y))\r\n",
        "\r\n",
        "        (x, y, w, h) = table_cells[0][-1]\r\n",
        "        ver_lines.append((max_x, y, max_x, max_y))\r\n",
        "        (x, y, w, h) = table_cells[0][0]\r\n",
        "        hor_lines.append((x, max_y, max_x, max_y))\r\n",
        "\r\n",
        "        return hor_lines, ver_lines\r\n",
        "\r\n",
        "    def __detect_box(self,image,line_min_width=15):\r\n",
        "        gray_scale=cv2.cvtColor(image,cv2.COLOR_BGR2GRAY)\r\n",
        "        th1,img_bin=cv2.threshold(gray_scale,150,225,cv2.THRESH_BINARY)\r\n",
        "        kernal_h=np.ones((1,line_min_width), np.uint8)\r\n",
        "        kernal_v=np.ones((line_min_width,1), np.uint8)\r\n",
        "        img_bin_h=cv2.morphologyEx(~img_bin, cv2.MORPH_OPEN, kernal_h)\r\n",
        "        img_bin_v=cv2.morphologyEx(~img_bin, cv2.MORPH_OPEN, kernal_v)\r\n",
        "        img_bin_final=img_bin_h|img_bin_v\r\n",
        "        final_kernel=np.ones((3,3), np.uint8)\r\n",
        "        img_bin_final=cv2.dilate(img_bin_final,final_kernel,iterations=1)\r\n",
        "        ret, labels, stats,centroids = cv2.connectedComponentsWithStats(~img_bin_final, connectivity=8, ltype=cv2.CV_32S)\r\n",
        "        return stats,labels\r\n",
        "        \r\n",
        "    def recognize_table(self,scale_percent = 200,rate_threshold=0.4):\r\n",
        "        vis = np.ones((self.img.shape[0],self.img.shape[1],3), np.uint8)*255\r\n",
        "\r\n",
        "        pre_processed = self.__pre_process_image()\r\n",
        "        text_boxes = self.__find_text_boxes(pre_processed)\r\n",
        "        cells = self.__find_table_in_boxes(text_boxes)\r\n",
        "\r\n",
        "        hor_lines, ver_lines = self.__build_lines(cells)\r\n",
        "\r\n",
        "        # for box in text_boxes:\r\n",
        "        #     (x, y, w, h) = box\r\n",
        "        #     cv2.rectangle(vis, (x, y), (x + w - 2, y + h - 2), (0, 255, 0), 1)\r\n",
        "\r\n",
        "        for line in hor_lines:\r\n",
        "            [x1, y1, x2, y2] = line\r\n",
        "            cv2.line(vis, (x1, y1), (x2, y2), (0, 0, 255), 1)\r\n",
        "\r\n",
        "        for line in ver_lines:\r\n",
        "            [x1, y1, x2, y2] = line\r\n",
        "            cv2.line(vis, (x1, y1), (x2, y2), (0, 0, 255), 1)        \r\n",
        "\r\n",
        "        #plt.imshow(vis)\r\n",
        "\r\n",
        "        stats,labels = self.__detect_box(vis)\r\n",
        "\r\n",
        "        data = {}\r\n",
        "        header = {}\r\n",
        "        for x,y,w,h,area in stats[2:]:\r\n",
        "            \r\n",
        "            text_part=self.im_data[y:y+h,x:x+w,:]\r\n",
        "            text,infos = recognition_correction('cell',text_part,scale_percent = scale_percent,rate_threshold=rate_threshold)\r\n",
        "            if x in header:\r\n",
        "                data[header[x]].append(text)\r\n",
        "            else:\r\n",
        "                header[x] = text\r\n",
        "                data[header[x]] = []\r\n",
        "\r\n",
        "        df = pd.DataFrame(data) \r\n",
        "\r\n",
        "        return df"
      ],
      "execution_count": 93,
      "outputs": []
    },
    {
      "cell_type": "code",
      "metadata": {
        "id": "y8HQ7jNaVtRA",
        "outputId": "fc6d156a-10f6-4444-9c5a-aaa7e8e331a5",
        "colab": {
          "base_uri": "https://localhost:8080/",
          "height": 202
        }
      },
      "source": [
        "td = TableImage2DataFrame('list.png')\r\n",
        "df = td.recognize_table(scale_percent=250)\r\n",
        "df"
      ],
      "execution_count": 96,
      "outputs": [
        {
          "output_type": "execute_result",
          "data": {
            "text/html": [
              "<div>\n",
              "<style scoped>\n",
              "    .dataframe tbody tr th:only-of-type {\n",
              "        vertical-align: middle;\n",
              "    }\n",
              "\n",
              "    .dataframe tbody tr th {\n",
              "        vertical-align: top;\n",
              "    }\n",
              "\n",
              "    .dataframe thead th {\n",
              "        text-align: right;\n",
              "    }\n",
              "</style>\n",
              "<table border=\"1\" class=\"dataframe\">\n",
              "  <thead>\n",
              "    <tr style=\"text-align: right;\">\n",
              "      <th></th>\n",
              "      <th>QTY</th>\n",
              "      <th>DESCRIPTION</th>\n",
              "      <th>UNIT</th>\n",
              "      <th>PRICE</th>\n",
              "      <th>AMOUNT</th>\n",
              "    </tr>\n",
              "  </thead>\n",
              "  <tbody>\n",
              "    <tr>\n",
              "      <th>0</th>\n",
              "      <td>1</td>\n",
              "      <td>front and rear brake cables</td>\n",
              "      <td></td>\n",
              "      <td>00.00</td>\n",
              "      <td>100.00</td>\n",
              "    </tr>\n",
              "    <tr>\n",
              "      <th>1</th>\n",
              "      <td>2</td>\n",
              "      <td>new sel of pedal arms</td>\n",
              "      <td></td>\n",
              "      <td>25.00</td>\n",
              "      <td>50.00</td>\n",
              "    </tr>\n",
              "    <tr>\n",
              "      <th>2</th>\n",
              "      <td>3</td>\n",
              "      <td>Labor 3hrs</td>\n",
              "      <td></td>\n",
              "      <td>15.00</td>\n",
              "      <td>45.00</td>\n",
              "    </tr>\n",
              "    <tr>\n",
              "      <th>3</th>\n",
              "      <td></td>\n",
              "      <td></td>\n",
              "      <td></td>\n",
              "      <td>Subtotal</td>\n",
              "      <td>195.00</td>\n",
              "    </tr>\n",
              "    <tr>\n",
              "      <th>4</th>\n",
              "      <td></td>\n",
              "      <td></td>\n",
              "      <td>Sales T</td>\n",
              "      <td>ax 5.0%</td>\n",
              "      <td>9.75</td>\n",
              "    </tr>\n",
              "  </tbody>\n",
              "</table>\n",
              "</div>"
            ],
            "text/plain": [
              "  QTY                  DESCRIPTION     UNIT     PRICE  AMOUNT\n",
              "0   1  front and rear brake cables              00.00  100.00\n",
              "1   2        new sel of pedal arms              25.00   50.00\n",
              "2   3                   Labor 3hrs              15.00   45.00\n",
              "3                                            Subtotal  195.00\n",
              "4                                   Sales T   ax 5.0%    9.75"
            ]
          },
          "metadata": {
            "tags": []
          },
          "execution_count": 96
        }
      ]
    },
    {
      "cell_type": "markdown",
      "metadata": {
        "id": "3xIJKFtFb6p2"
      },
      "source": [
        "모든 종합 처리"
      ]
    },
    {
      "cell_type": "code",
      "metadata": {
        "id": "lTKZBZgsb88b",
        "outputId": "71c69dde-3618-4091-db95-539ffada7fb8",
        "colab": {
          "base_uri": "https://localhost:8080/"
        }
      },
      "source": [
        "for k in pattern_type1:\r\n",
        "    r = pattern_type1[k]\r\n",
        "    text_part=im_data[r[1]:r[3],r[0]:r[2],:]\r\n",
        "    text,infos = recognition_correction(k,text_part)    \r\n",
        "    if k == 'list':\r\n",
        "        td = TableImage2DataFrame('list.png')\r\n",
        "        df = td.recognize_table(scale_percent=150)\r\n",
        "        print(df)\r\n",
        "    else:\r\n",
        "        print(k,':',text.strip())"
      ],
      "execution_count": 102,
      "outputs": [
        {
          "output_type": "stream",
          "text": [
            "company : John Smith\n",
            "address : 4490 Oak Drive Albany, ny 12210\n",
            "bill to : Jessie MHorne 4312 wood Road new York, ny 10031\n",
            "ship to : Jessie MHorne 2019 Redbud Drive York, NV 10011 New\n",
            "invoice date : 11/02/2019\n",
            "due date : 26/02/2019\n",
            "  QTY                  DESCRIPTION   UNIT     PRICE  AMOUNT\n",
            "0   1  front and rear brake cables           1O0.00   0O.00\n",
            "1   2        new sel of pedal arms            25.00   50.00\n",
            "2   3                   labor 3hrs            15.00   45.00\n",
            "3                                          Subtotal  195.00\n",
            "4                                   Sales   ax 5.0%    9.75\n",
            "total : $204.75\n"
          ],
          "name": "stdout"
        }
      ]
    }
  ]
}